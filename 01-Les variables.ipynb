{
 "cells": [
  {
   "cell_type": "markdown",
   "metadata": {},
   "source": [
    "# Les variables"
   ]
  },
  {
   "cell_type": "markdown",
   "metadata": {},
   "source": [
    "Une variable est une donnée de votre programme auquelle est associé une valeur. Elles permettent de stocker des valeurs pour être utilisé plus tard. Les valeurs des variables peuvent changer au cours du temps. On ne peut pas se passer des variables lorsque l'on écrit un programme. \n",
    "\n",
    "Pour donner une valeur à une variable, il suffit d'écrire :  \n",
    "<center> `nom_de_la_variable = valeur` </center>\n",
    "Par exemple pour stocker mon age il suffit d'écrire :   \n",
    "<center> `age = 26` </center>\n",
    "Cette étape est appelé \"affectation de variable\", dans cette exemple, on a affecté la valeur `26` à la variable `age`.\n",
    "\n",
    "\n",
    "Pour votre organisation et pouvoir vous y retrouver dans votre code plus tard, il est conseiller de respecter quelques règles de syntaxe : \n",
    "- le nom de la variable ne peut etre composé que de lettres, majuscules ou minuscules, de chiffres et du symbole souligné \"_\"\n",
    "- le nom de la variable ne peut pas commencer par un chiffre\n",
    "- Python est sensible à la casse du mot, c'est à dire que la variage `AGE` est différente de la variable `age` qui est différente de la variable `aGe`...\n",
    "- le nom de la variable doit être explicite par rapport à son rôle. C'est-à-dire, n'appelez pas vos variables `a`, `b`, `c` et `d`. Lorsque vous aurez besoin de réutiliser votre code, vous ne saurez plus quelle variable correspond à quoi. "
   ]
  },
  {
   "cell_type": "markdown",
   "metadata": {},
   "source": [
    "## Le type de variable\n",
    "\n",
    "Le type de la variable correspond à la nature de celle-ci. Les principaux utilisés sont les : \n",
    "- les entiers (int ou integer)\n",
    "- les décimaux (float)\n",
    "- les chaines de caractères (string ou str)\n",
    "- les booléens\n",
    "\n",
    "\n",
    "ATTENTION\n",
    "Pour que le programme comprenne que vous voulez utiliser une chaine de caractère, il faut bien penser à l'entourer de guillemets (doubles \" ou simple ' )."
   ]
  },
  {
   "cell_type": "markdown",
   "metadata": {},
   "source": [
    "## Les opérations\n",
    "\n",
    "Les quatres opérations arithmétiques de base se font de manière simple en utilisant les symboles +-*/. sur les types entiers et décimaux. L'utilisation de parenthèses permet de gérer les priorités des opérations.  \n",
    "Le tableau suivant vous récapitule les opérations de base. \n",
    "<img src=\"images/1_0_OperateursPython.jpg\" alt=\"drawing\" /> "
   ]
  },
  {
   "cell_type": "markdown",
   "metadata": {},
   "source": [
    "## Les opérations sur les chaines de caractères\n",
    "\n",
    "On peut utiliser l'addition et la multiplication sur les chaines de caractères. Cependant leur action n'est pas la même que pour les variables numériques.  \n",
    "L'addition concatène les deux chaines de caractères. C'est à dire qu'elle assemble les deux chaines de caractères à la suite l'une de l'autre.  Ex:  \n",
    "`\n",
    "chaine1 = \"salut \"\n",
    "chaine2 = \"le monde\"\n",
    "print(chaine1+chaine2)\n",
    "`  \n",
    "`>>> salut le monde`  \n",
    "\n",
    "La multiplication entre une chaine de caractère et un nombre entier duplique la chaine de caractère. Ex:  \n",
    "`chaine1 = \"salut \"\n",
    "print(chaine1*3)\n",
    "`  \n",
    "`>>>salut salut salut` "
   ]
  },
  {
   "cell_type": "markdown",
   "metadata": {},
   "source": [
    "### Exercice\n",
    "\n",
    "Créer une variable avec votre age, et afficher la. Puis ajouter 5 à cette variable et afficher la.   \n",
    "Quelle est la nouvelle valeur de votre variable ?   \n",
    "Au lieu d'ajouter l'entier 5, essayer d'ajouter le flottant 5. . Que notez vous sur le résultat ?  "
   ]
  },
  {
   "cell_type": "code",
   "execution_count": null,
   "metadata": {},
   "outputs": [],
   "source": []
  },
  {
   "cell_type": "code",
   "execution_count": null,
   "metadata": {},
   "outputs": [],
   "source": []
  },
  {
   "cell_type": "markdown",
   "metadata": {},
   "source": [
    "# Les listes"
   ]
  },
  {
   "cell_type": "markdown",
   "metadata": {},
   "source": [
    "Une liste est une structure de données qui contient une série de valeurs. Ces listes peuvent être composé d'éléments de même type ou de type différents (par exemple chaine de caractère et flottant).  \n",
    "Une liste est déclarée par une série de valeur séparée par des **virgules** et l'intégralité est entouré de **crochets**.  \n",
    "Exemples :  \n",
    "`ac = ['dcp1', 'cellmask', '']`\n",
    "`quantite = [100, 200, 50]`\n",
    "`mixte = ['dcp1', 100, 'cellmask', 200, '', 50]`  \n",
    "\n",
    "Un des avantages d'une liste, c'est que l'on peut appeler ses éléments par leur positions (= indice de la liste). Cependant, faites attention, le premier élément d'une liste est à l'indice 0.  \n",
    "Exemples :  \n",
    "`mixte = ['dcp1', 100, 'cellmask', 200, '', 50]`  \n",
    "`indice =     0     1          2     3       4 `   \n",
    "On a donc notre liste mixte qui contient 5 éléments qui vont de l'indice 0 à 4. \n",
    "\n"
   ]
  },
  {
   "cell_type": "markdown",
   "metadata": {},
   "source": [
    "Les listes supportent l'opération + de concaténation et * de duplication. Leurs utilisations est la même que pour les chaines de caractères. \n",
    "\n",
    "L'instruction `len(ma_liste)` permet de connaitre la taille de la liste.  \n",
    "\n",
    "Il est également possible de créer des listes de listes. \n",
    "Exemple:   \n",
    "`rack1 = ['Sqh-GFP', 'uas Rho1RNAi', 'uas Rok']\n",
    "rack2 = ['Diap', 'quas-rpr']\n",
    "rack3 = ['67Gal4', 'tubGal80ts', 'uasSnail'\n",
    "stock = [rack1, rack2, rack3]\n",
    "print (stock)`  \n",
    "`>>> [['Sqh-GFP', 'uas Rho1RNAi', 'uas Rok'], ['Diap', 'quas-rpr'], ['67Gal4', 'tubGal80ts', 'uasSnail']]`\n",
    " "
   ]
  },
  {
   "cell_type": "markdown",
   "metadata": {},
   "source": [
    "Il est possible d'ajouter un élément à la fin du liste avec la méthode `append()`. Par exemple, pour ajouter la lignée 'GC3I' à notre liste rack1, on va écrire : `rack1.append('GC3I')`.   \n",
    "Vous pouvez également supprimer les éléments d'une liste. Par exemple, je veux supprimer 'uas Rho1RNAi' de ma liste rack1. Là, deux méthodes sont possibles : \n",
    "- supprimer l'élément à la position i. `rack1.del(1)`\n",
    "- supprimer à partir de la valeur. `rack1.remove('uas Rho1RNAi')` Attention, dans ce cas, si 'uas Rho1RNAi' apparait plusieurs fois dans la liste. Seule la première occurence sera supprimé. "
   ]
  },
  {
   "cell_type": "markdown",
   "metadata": {},
   "source": [
    "## Exercice\n",
    "\n",
    "Créer une liste des jours de la semaine auquel il manque le dimanche.   \n",
    "Ajouter le dimanche. \n",
    "Supprimer mercredi."
   ]
  },
  {
   "cell_type": "code",
   "execution_count": null,
   "metadata": {},
   "outputs": [],
   "source": []
  },
  {
   "cell_type": "code",
   "execution_count": null,
   "metadata": {},
   "outputs": [],
   "source": []
  },
  {
   "cell_type": "markdown",
   "metadata": {},
   "source": [
    "# Utilisation des librairies scientifiques - Numpy Scipy Pandas"
   ]
  },
  {
   "cell_type": "markdown",
   "metadata": {},
   "source": [
    "## Numpy\n",
    "\n",
    "La bibliothèque Numpy permet d'effectuer des calculs numériques. De plus elle permet une gestion facilitée des tableaux de nombres. \n",
    "Cette librairie est souvent utilisées avec la librairie Pandas, qui elle permet la gestion de tableau contenant différents types de données (int, string, float...)"
   ]
  },
  {
   "cell_type": "markdown",
   "metadata": {},
   "source": [
    "### Création d'un tableau\n",
    "Comme on a vu précédemment pour créer un tableau on utilise `[]`. \n",
    "On peut créer un `numpy.array()` de la même manière.  \n",
    "remarque un objet array ne contient que des données homogènes, c'est à dire du même type.  \n",
    "La fonction array() peut créer des tableaux à n’importe quel nombre de dimensions. Toutefois ça devient vite compliqué\n",
    "lorsqu’on dépasse trois dimensions. Retenez qu’un objet array à une dimension peut être considéré comme un vecteur et un array à deux dimensions comme une matrice. Voici quelques attributs intéressants pour décrire un objet array :\n",
    "- .ndim renvoie le nombre de dimensions (par exemple, 1 pour un vecteur et 2 pour une matrice)\n",
    "- .shape renvoie les dimensions sous forme d’un tuple\n",
    "- .size renvoie le nombre total d’éléments contenus dans l’array.\n",
    "1\n"
   ]
  },
  {
   "cell_type": "code",
   "execution_count": 2,
   "metadata": {},
   "outputs": [
    {
     "name": "stdout",
     "output_type": "stream",
     "text": [
      "[1 2 3]\n",
      "[[1 2 3]\n",
      " [4 5 6]]\n"
     ]
    }
   ],
   "source": [
    "#Importation de la librarie numpy\n",
    "import numpy as np\n",
    "\n",
    "# Ceci est un tableau en une dimension\n",
    "tableau1d = np.array([1,2,3])\n",
    "# Ceci est un tableau en deux dimension\n",
    "tableau2d = np.array([[1,2,3],[4,5,6]])\n",
    "\n",
    "print(tableau1d)\n",
    "print(tableau2d)"
   ]
  },
  {
   "cell_type": "markdown",
   "metadata": {},
   "source": [
    "### Recupérer les éléments d'un array\n",
    "Pour récupérer un ou plusieurs élément(s) d’un objet array, vous pouvez utiliser les indices ou les tranches, de la même\n",
    "manière qu’avec les listes :\n",
    "```\n",
    "tableau1d = np.array([1,2,3,4,5,6,7,8,9,10])\n",
    "print(tableau1d[1])\n",
    ">> 2\n",
    "print(tableau1d[7:10])\n",
    ">> [8 9 10]\n",
    "\n",
    "```\n",
    "\n",
    "Dans le cas d’un objet array à deux dimensions, vous pouvez récupérer une ligne complète (d’indice m), une colonne complète (d’indice n) ou bien un seul élément. 1\n",
    "```\n",
    "tableau2d = np.array([[1,2,3],[4,5,6]])\n",
    "print(tableau2d[:,0])\n",
    ">>[1 4]\n",
    "print(tableau2d[0,:])\n",
    ">>[1 2 3]\n",
    "print(tableau2d[0,1])\n",
    ">> 2\n",
    "```\n",
    "\n",
    "La syntaxe a[m,:] renvoie la ligne m-1, et a[:,n] renvoie la colonne n-1. Les tranches sont évidemment aussi utilisables sur un tableau à deux dimensions."
   ]
  },
  {
   "cell_type": "markdown",
   "metadata": {},
   "source": [
    "## Pandas"
   ]
  },
  {
   "cell_type": "markdown",
   "metadata": {},
   "source": [
    "Le module pandas a été conçu pour la manipulation et l’analyse de données. Il est particulièrement puissant pour manipuler des données structurées sous forme de tableau. Pour charger pandas dans la mémoire de Python, on utilise la commande import habituelle : `import pandas as pd`.   \n",
    "\n",
    "## Series\n",
    "Le premier type de données apporté par pandas est la **series**, qui correspond à un vecteur à une dimension.  \n",
    "`s = pd.Series ([10, 20, 30, 40], index = ['a', 'b', 'c', 'd'])`\n",
    "Avec pandas, chaque élément de la série de données possède une étiquette qui permet d’appeler les éléments. Ainsi, pour appeler le premier élément de la série, on peut utiliser son index, comme pour une liste (0 pour le premier élément) ou son étiquette (ici, \"a\").   \n",
    "Bien sûr, on peut extraire plusieurs éléments, par leurs indices ou leurs étiquettes :\n",
    "```\n",
    "s[[1 ,3]]\n",
    "s[[\"b\",\"d\"]]\n",
    "```\n",
    "Les étiquettes permettent de modifier et d’ajouter des éléments :\n",
    "```\n",
    "s[\"c\"] = 300\n",
    "s[\"z\"] = 50\n",
    "s\n",
    "```\n",
    "\n",
    "Enfin, on peut filtrer une partie de la series : `s[s>30]` et même combiner plusieurs critères de sélection : `s[(s>20) & (s <100)]`"
   ]
  },
  {
   "cell_type": "markdown",
   "metadata": {},
   "source": [
    "## Dataframes\n",
    "Un autre type d’objet particulièrement intéressant introduit par pandas sont les **dataframes**. Ceux-ci correspondent à des tableaux à deux dimensions avec des étiquettes pour nommer les lignes et les colonnes.  \n",
    "\n",
    "Voici comment créer un dataframe avec pandas à partir de données fournies comme liste de lignes :\n",
    "```\n",
    "df = pd.DataFrame(columns =[\"Paris\", \"Lyon\", \"Nantes\", \"Pau\"],\n",
    "    index =[\" chat\", \"singe\", \"souris\"],\n",
    "    data=[np.arange (10, 14),\n",
    "    np.arange (20, 24),\n",
    "    np.arange (30, 34)])\n",
    "```\n",
    "\n",
    "**Ligne 1.** Le dataframe est créé avec la fonction DataFrame() à laquelle on fournit plusieurs arguments. L’argument columns indique le nom des colonnes, sous forme d’une liste.   \n",
    "**Ligne 2.** L’argument index définit le nom des lignes, sous forme de liste.   \n",
    "**Lignes 3-5.** L’argument data fournit le contenu du dataframe, sous la forme d’une liste de valeurs correspondantes à des lignes. Ainsi np.arange(10, 14) qui est équivalent à [10, 11, 12, 13] correspond à la première ligne du dataframe.  \n",
    "\n",
    "### Quelques propriétés\n",
    "\n",
    "Les dimensions d’un dataframe sont données par l’attribut **.shape** :\n",
    "df.shape\n",
    "Ici, le dataframe df a 3 lignes et 4 colonnes.   \n",
    "\n",
    "L’attribut **.columns** renvoie le nom des colonnes et permet aussi de renommer les colonnes d’un dataframe :\n",
    "df.columns\n",
    "\n",
    "La méthode **.head(n)** renvoie les n premières lignes du dataframe (par défaut, n vaut 5) :\n"
   ]
  },
  {
   "cell_type": "markdown",
   "metadata": {},
   "source": [
    "### Sélection\n",
    "\n",
    "Les mécanismes de sélection fournis avec pandas sont très puissants. \n",
    "\n",
    "#### Sélection de colonnes\n",
    "On peut sélectionner une colonne par son étiquette : `df[\"Lyon\"]`\n",
    "ou plusieurs colonnes en même temps : `df[[\" Lyon\", \"Pau\"]]`  \n",
    "Pour la sélection de plusieurs colonnes, les étiquettes d’intérêt sont rassemblées dans une liste.\n",
    "\n",
    "#### Sélection de lignes\n",
    "Pour sélectionner une ligne, il faut utiliser l’instruction .loc() et l’étiquette de la ligne : `df.loc[\"singe \"]`. Ici aussi, on peut sélectionner plusieurs lignes : `df.loc[[\" singe\", \"chat \"]]`.\n",
    "Enfin, on peut aussi sélectionner des lignes avec l’instruction .iloc et l’indice de la ligne (la première ligne ayant l’indice 0): `df.iloc[1]`.  \n",
    "On peut également utiliser les tranches (comme pour les listes) : `df.iloc[0:2]`.\n",
    "\n",
    "#### Sélection sur les lignes et les colonnes\n",
    "On peut bien sûr combiner les deux types de sélection (en ligne et en colonne) :\n",
    "```\n",
    "df.loc[\" souris\", \"Pau\"] 2 33\n",
    "df.loc[[\" singe\", \"souris\"], ['Nantes ', 'Lyon ']]\n",
    "```\n",
    "Notez qu’à partir du moment où on souhaite effectuer une sélection sur des lignes, il faut utiliser loc (ou iloc si on utilise les indices).\n",
    "\n",
    "#### Sélection par condition\n",
    "Sélectionnons maintenant toutes les lignes pour lesquelles les effectifs à Pau sont supérieurs à 15 : \n",
    "`df[ df[\"Pau\"]>15 ] `\n",
    "De cette sélection, on ne souhaite garder que les valeurs pour Lyon :   `df[ df[\"Pau\"]>15 ][\" Lyon\"]`\n",
    "\n",
    "On peut aussi combiner plusieurs conditions avec & pour l’opérateur et :\n",
    "`df[ (df[\"Pau \"] >15) & (df[\"Lyon \"]>25) ]`\n",
    "et | pour l’opérateur ou :\n",
    "`df[ (df[\"Pau \"] >15) | (df[\"Lyon \"]>25) ]`"
   ]
  },
  {
   "cell_type": "code",
   "execution_count": null,
   "metadata": {},
   "outputs": [],
   "source": []
  },
  {
   "cell_type": "code",
   "execution_count": null,
   "metadata": {},
   "outputs": [],
   "source": []
  }
 ],
 "metadata": {
  "kernelspec": {
   "display_name": "Python 3",
   "language": "python",
   "name": "python3"
  },
  "language_info": {
   "codemirror_mode": {
    "name": "ipython",
    "version": 3
   },
   "file_extension": ".py",
   "mimetype": "text/x-python",
   "name": "python",
   "nbconvert_exporter": "python",
   "pygments_lexer": "ipython3",
   "version": "3.6.5"
  }
 },
 "nbformat": 4,
 "nbformat_minor": 2
}
