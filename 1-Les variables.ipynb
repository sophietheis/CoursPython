{
 "cells": [
  {
   "cell_type": "markdown",
   "metadata": {},
   "source": [
    "On va voir ici les bases de python :\n",
    "- les variables  \n",
    "Pour aller plus loin : https://inforef.be/swi/download/apprendre_python3.pdf"
   ]
  },
  {
   "cell_type": "markdown",
   "metadata": {},
   "source": [
    "# Les variables"
   ]
  },
  {
   "cell_type": "markdown",
   "metadata": {},
   "source": [
    "Une variable est une donnée de votre programme auquelle est associé une valeur. Elles permettent de stocker des valeurs pour être utilisé plus tard. Les valeurs des variables peuvent changer au cours du temps. On ne peut pas se passer des variables lorsque l'on écrit un programme. \n",
    "\n",
    "Pour donner une valeur à une variable, il suffit d'écrire :  \n",
    "<center> `nom_de_la_variable = valeur` </center>\n",
    "Par exemple pour stocker mon age il suffit d'écrire :   \n",
    "<center> `age = 26` </center>\n",
    "Cette étape est appelé \"affectation de variable\", dans cette exemple, on a affecté la valeur `26` à la variable `age`.\n",
    "\n",
    "\n",
    "Pour votre organisation et pouvoir vous y retrouver dans votre code plus tard, il est conseiller de respecter quelques règles de syntaxe : \n",
    "- le nom de la variable ne peut etre composé que de lettres, majuscules ou minuscules, de chiffres et du symbole souligné \"_\"\n",
    "- le nom de la variable ne peut pas commencer par un chiffre\n",
    "- Python est sensible à la casse du mot, c'est à dire que la variage `AGE` est différente de la variable `age` qui est différente de la variable `aGe`...\n",
    "- le nom de la variable doit être explicite par rapport à son rôle. C'est-à-dire, n'appelez pas vos variables `a`, `b`, `c` et `d`. Lorsque vous aurez besoin de réutiliser votre code, vous ne saurez plus quelle variable correspond à quoi. "
   ]
  },
  {
   "cell_type": "markdown",
   "metadata": {},
   "source": [
    "## Le type de variable\n",
    "\n",
    "Le type de la variable correspond à la nature de celle-ci. Les principaux utilisés sont les : \n",
    "- les entiers (int ou integer)\n",
    "- les décimaux (float)\n",
    "- les chaines de caractères (string ou str)\n",
    "- les booléens\n",
    "\n",
    "\n",
    "ATTENTION\n",
    "Pour que le programme comprenne que vous voulez utiliser une chaine de caractère, il faut bien penser à l'entourer de guillemets (doubles \" ou simple ' )."
   ]
  },
  {
   "cell_type": "markdown",
   "metadata": {},
   "source": [
    "## Les opérations\n",
    "\n",
    "Les quatres opérations arithmétiques de base se font de manière simple en utilisant les symboles +-*/. sur les types entiers et décimaux. L'utilisation de parenthèses permet de gérer les priorités des opérations.  \n",
    "Le tableau suivant vous récapitule les opérations de base. \n",
    "<img src=\"images/1_0_OperateursPython.jpg\" alt=\"drawing\" /> "
   ]
  },
  {
   "cell_type": "markdown",
   "metadata": {},
   "source": [
    "## Les opérations sur les chaines de caractères\n",
    "\n",
    "On peut utiliser l'addition et la multiplication sur les chaines de caractères. Cependant leur action n'est pas la même que pour les variables numériques.  \n",
    "L'addition concatène les deux chaines de caractères. C'est à dire qu'elle assemble les deux chaines de caractères à la suite l'une de l'autre.  Ex:  \n",
    "`\n",
    "chaine1 = \"salut \"\n",
    "chaine2 = \"le monde\"\n",
    "print(chaine1+chaine2)\n",
    "`  \n",
    "`>>> salut le monde`  \n",
    "\n",
    "La multiplication entre une chaine de caractère et un nombre entier duplique la chaine de caractère. Ex:  \n",
    "`chaine1 = \"salut \"\n",
    "print(chaine1*3)\n",
    "`  \n",
    "`>>>salut salut salut` "
   ]
  },
  {
   "cell_type": "markdown",
   "metadata": {},
   "source": [
    "### Exercice\n",
    "\n",
    "Créer une variable avec votre age, et afficher la. Puis ajouter 5 à cette variable et afficher la.   \n",
    "Quelle est la nouvelle valeur de votre variable ?   \n",
    "Au lieu d'ajouter l'entier 5, essayer d'ajouter le flottant 5. . Que notez vous sur le résultat ?  "
   ]
  },
  {
   "cell_type": "code",
   "execution_count": 1,
   "metadata": {},
   "outputs": [
    {
     "name": "stdout",
     "output_type": "stream",
     "text": [
      "31\n"
     ]
    }
   ],
   "source": [
    "age = 26\n",
    "age = age + 5 # ou age += 5\n",
    "print(age)"
   ]
  },
  {
   "cell_type": "code",
   "execution_count": null,
   "metadata": {},
   "outputs": [],
   "source": []
  },
  {
   "cell_type": "markdown",
   "metadata": {},
   "source": [
    "# Les listes"
   ]
  },
  {
   "cell_type": "markdown",
   "metadata": {},
   "source": [
    "Une liste est une structure de données qui contient une série de valeurs. Ces listes peuvent être composé d'éléments de même type ou de type différents (par exemple chaine de caractère et flottant).  \n",
    "Une liste est déclarée par une série de valeur séparée par des **virgules** et l'intégralité est entouré de **crochets**.  \n",
    "Exemples :  \n",
    "`ac = ['dcp1', 'cellmask', '']`\n",
    "`quantite = [100, 200, 50]`\n",
    "`mixte = ['dcp1', 100, 'cellmask', 200, '', 50]`  \n",
    "\n",
    "Un des avantages d'une liste, c'est que l'on peut appeler ses éléments par leur positions (= indice de la liste). Cependant, faites attention, le premier élément d'une liste est à l'indice 0.  \n",
    "Exemples :  \n",
    "`mixte = ['dcp1', 100, 'cellmask', 200, '', 50]`  \n",
    "`indice =     0     1          2     3       4 `   \n",
    "On a donc notre liste mixte qui contient 5 éléments qui vont de l'indice 0 à 4. \n",
    "\n"
   ]
  },
  {
   "cell_type": "markdown",
   "metadata": {},
   "source": [
    "Les listes supportent l'opération + de concaténation et * de duplication. Leurs utilisations est la même que pour les chaines de caractères. \n",
    "\n",
    "L'instruction `len(ma_liste)` permet de connaitre la taille de la liste.  \n",
    "\n",
    "Il est également possible de créer des listes de listes. \n",
    "Exemple:   \n",
    "`rack1 = \n",
    "rack2 = \n",
    "rack3 = \n",
    "stock = [rack1, rack2, rack3]\n",
    "print (stock)`  \n",
    "`>>> ??`\n",
    " "
   ]
  },
  {
   "cell_type": "code",
   "execution_count": null,
   "metadata": {},
   "outputs": [],
   "source": []
  },
  {
   "cell_type": "code",
   "execution_count": null,
   "metadata": {},
   "outputs": [],
   "source": []
  },
  {
   "cell_type": "code",
   "execution_count": null,
   "metadata": {},
   "outputs": [],
   "source": []
  },
  {
   "cell_type": "code",
   "execution_count": null,
   "metadata": {},
   "outputs": [],
   "source": []
  },
  {
   "cell_type": "markdown",
   "metadata": {},
   "source": [
    "# Utilisation des librairies scientifiques - Numpy Scipy Pandas"
   ]
  },
  {
   "cell_type": "markdown",
   "metadata": {},
   "source": [
    "## Numpy\n",
    "\n",
    "La bibliothèque Numpy permet d'effectuer des calculs numériques. De plus elle permet une gestion facilitée des tableaux de nombres. \n",
    "Cette librairie est souvent utilisées avec la librairie Pandas, qui elle permet la gestion de tableau contenant différents types de données (int, string, float...)"
   ]
  },
  {
   "cell_type": "markdown",
   "metadata": {},
   "source": [
    "### Création d'un tableau\n",
    "Comme on a vu précédemment pour créer un tableau on utilise `[]`. \n",
    "De la même manière, on peut créer un `numpy.array()` de la même manière.  \n"
   ]
  },
  {
   "cell_type": "code",
   "execution_count": 5,
   "metadata": {},
   "outputs": [],
   "source": [
    "#Importation de la librarie numpy\n",
    "import numpy as np\n",
    "\n",
    "# Ceci est un tableau en une dimension\n",
    "tableau1d = np.array([1,2,3])\n",
    "# Ceci est un tableau en deux dimension\n",
    "tableau2d = np.array([[1,2,3],[4,5,6]])"
   ]
  },
  {
   "cell_type": "markdown",
   "metadata": {},
   "source": [
    "### Accès aux éléments d'un tableau.\n",
    "On accède aux éléments du tableau de la même manière que pour les listes, avec les `[]`.   \n",
    "ATTENTION ! Les indices des éléments commencent à zéro."
   ]
  },
  {
   "cell_type": "code",
   "execution_count": null,
   "metadata": {},
   "outputs": [],
   "source": [
    "tableau1d[0\n",
    "         \n",
    "         ]"
   ]
  },
  {
   "cell_type": "code",
   "execution_count": null,
   "metadata": {},
   "outputs": [],
   "source": []
  },
  {
   "cell_type": "code",
   "execution_count": null,
   "metadata": {},
   "outputs": [],
   "source": []
  },
  {
   "cell_type": "code",
   "execution_count": null,
   "metadata": {},
   "outputs": [],
   "source": []
  },
  {
   "cell_type": "code",
   "execution_count": null,
   "metadata": {},
   "outputs": [],
   "source": []
  },
  {
   "cell_type": "code",
   "execution_count": null,
   "metadata": {},
   "outputs": [],
   "source": []
  }
 ],
 "metadata": {
  "kernelspec": {
   "display_name": "Python 3",
   "language": "python",
   "name": "python3"
  },
  "language_info": {
   "codemirror_mode": {
    "name": "ipython",
    "version": 3
   },
   "file_extension": ".py",
   "mimetype": "text/x-python",
   "name": "python",
   "nbconvert_exporter": "python",
   "pygments_lexer": "ipython3",
   "version": "3.7.4"
  }
 },
 "nbformat": 4,
 "nbformat_minor": 2
}
