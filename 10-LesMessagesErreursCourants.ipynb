{
 "cells": [
  {
   "cell_type": "markdown",
   "metadata": {},
   "source": [
    "La plupart du temps, les messages d'erreurs obtenus vous aide à comprendre d'où elle provient et ce qui ne va pas. "
   ]
  },
  {
   "cell_type": "markdown",
   "metadata": {},
   "source": [
    "### Opération illicites\n",
    "Si vous obtenez un message de ce type.  \n",
    "`1 >>> \" toto \" * 1.3\n",
    "2 Traceback ( most recent call last ):\n",
    "3 File \"<stdin >\", line 1, in <module >\n",
    "4 TypeError : can 't multiply sequence by non -int of type 'float '\n",
    "`  \n",
    "C'est que vous essayez de faire une opération de multiplication entre une chaine de caractère et un flottant."
   ]
  },
  {
   "cell_type": "markdown",
   "metadata": {},
   "source": [
    "### Accès à un élément de la liste qui n'existe pas\n",
    "`\n",
    "mixte = ['dcp1', 100, 'cellmask', 200, '', 50]\n",
    "1 >>> mixte [5]\n",
    "2 Traceback ( innermost last ):\n",
    "3 File \"<stdin >\", line 1, in ?\n",
    "4 IndexError : list index out of range`\n",
    "\n",
    "Vous essayez d'accèder à un élément à l'indice 5, cet position n'existe pas, puisque l'indexation d'une liste commence à 0. Le dernier indice de cette liste est 4. "
   ]
  },
  {
   "cell_type": "code",
   "execution_count": null,
   "metadata": {},
   "outputs": [],
   "source": []
  },
  {
   "cell_type": "code",
   "execution_count": null,
   "metadata": {},
   "outputs": [],
   "source": []
  },
  {
   "cell_type": "code",
   "execution_count": null,
   "metadata": {},
   "outputs": [],
   "source": []
  },
  {
   "cell_type": "code",
   "execution_count": null,
   "metadata": {},
   "outputs": [],
   "source": []
  },
  {
   "cell_type": "code",
   "execution_count": null,
   "metadata": {},
   "outputs": [],
   "source": []
  }
 ],
 "metadata": {
  "kernelspec": {
   "display_name": "Python 3",
   "language": "python",
   "name": "python3"
  },
  "language_info": {
   "codemirror_mode": {
    "name": "ipython",
    "version": 3
   },
   "file_extension": ".py",
   "mimetype": "text/x-python",
   "name": "python",
   "nbconvert_exporter": "python",
   "pygments_lexer": "ipython3",
   "version": "3.7.4"
  }
 },
 "nbformat": 4,
 "nbformat_minor": 2
}
