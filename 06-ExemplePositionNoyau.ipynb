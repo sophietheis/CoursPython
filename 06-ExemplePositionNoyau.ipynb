{
 "cells": [
  {
   "cell_type": "code",
   "execution_count": 2,
   "metadata": {},
   "outputs": [],
   "source": [
    "# IMPORTATION DES DIFFERENTS MODULES\n",
    "\n",
    "import pandas as pd\n",
    "import scipy.stats as stats\n",
    "import matplotlib.pyplot as plt"
   ]
  },
  {
   "cell_type": "code",
   "execution_count": 3,
   "metadata": {},
   "outputs": [],
   "source": [
    "# LOADING THE FILE\n",
    "\n",
    "# Create a variable that contains the path to the file. \n",
    "# The path to place is either absolute (i.e. from the root of a disk)\n",
    "#filename = 'D:/Documents/Code/CoursePython/datas/positionCore.csv\n",
    "# or relative (i.e. from the folder where the file is located)\n",
    "filename = 'datas/positionNoyau.csv'\n",
    "data = pd.read_csv(filename, sep=';', decimal=b',')"
   ]
  },
  {
   "cell_type": "code",
   "execution_count": 18,
   "metadata": {},
   "outputs": [
    {
     "data": {
      "text/html": [
       "<div>\n",
       "<style scoped>\n",
       "    .dataframe tbody tr th:only-of-type {\n",
       "        vertical-align: middle;\n",
       "    }\n",
       "\n",
       "    .dataframe tbody tr th {\n",
       "        vertical-align: top;\n",
       "    }\n",
       "\n",
       "    .dataframe thead th {\n",
       "        text-align: right;\n",
       "    }\n",
       "</style>\n",
       "<table border=\"1\" class=\"dataframe\">\n",
       "  <thead>\n",
       "    <tr style=\"text-align: right;\">\n",
       "      <th></th>\n",
       "      <th>Condition</th>\n",
       "      <th>Apoptotic</th>\n",
       "      <th>Apical</th>\n",
       "      <th>Basal</th>\n",
       "      <th>Fichier</th>\n",
       "    </tr>\n",
       "  </thead>\n",
       "  <tbody>\n",
       "    <tr>\n",
       "      <th>0</th>\n",
       "      <td>ctrl</td>\n",
       "      <td>1</td>\n",
       "      <td>13.10</td>\n",
       "      <td>14.2</td>\n",
       "      <td>2015-02-11 sqhGFP Shot Dcp1_p1</td>\n",
       "    </tr>\n",
       "    <tr>\n",
       "      <th>1</th>\n",
       "      <td>ctrl</td>\n",
       "      <td>0</td>\n",
       "      <td>11.50</td>\n",
       "      <td>15.5</td>\n",
       "      <td>2015-02-11 sqhGFP Shot Dcp1_p1</td>\n",
       "    </tr>\n",
       "    <tr>\n",
       "      <th>2</th>\n",
       "      <td>ctrl</td>\n",
       "      <td>0</td>\n",
       "      <td>7.39</td>\n",
       "      <td>20.2</td>\n",
       "      <td>2015-02-11 sqhGFP Shot Dcp1_p1</td>\n",
       "    </tr>\n",
       "    <tr>\n",
       "      <th>3</th>\n",
       "      <td>ctrl</td>\n",
       "      <td>0</td>\n",
       "      <td>5.55</td>\n",
       "      <td>22.4</td>\n",
       "      <td>2015-02-11 sqhGFP Shot Dcp1_p1</td>\n",
       "    </tr>\n",
       "    <tr>\n",
       "      <th>4</th>\n",
       "      <td>ctrl</td>\n",
       "      <td>0</td>\n",
       "      <td>4.51</td>\n",
       "      <td>22.7</td>\n",
       "      <td>2015-02-11 sqhGFP Shot Dcp1_p1</td>\n",
       "    </tr>\n",
       "  </tbody>\n",
       "</table>\n",
       "</div>"
      ],
      "text/plain": [
       "  Condition  Apoptotic  Apical  Basal                         Fichier\n",
       "0      ctrl          1   13.10   14.2  2015-02-11 sqhGFP Shot Dcp1_p1\n",
       "1      ctrl          0   11.50   15.5  2015-02-11 sqhGFP Shot Dcp1_p1\n",
       "2      ctrl          0    7.39   20.2  2015-02-11 sqhGFP Shot Dcp1_p1\n",
       "3      ctrl          0    5.55   22.4  2015-02-11 sqhGFP Shot Dcp1_p1\n",
       "4      ctrl          0    4.51   22.7  2015-02-11 sqhGFP Shot Dcp1_p1"
      ]
     },
     "execution_count": 18,
     "metadata": {},
     "output_type": "execute_result"
    }
   ],
   "source": [
    "# Allows you to see the first 5 rows of the table\n",
    "data.head()"
   ]
  },
  {
   "cell_type": "code",
   "execution_count": 4,
   "metadata": {},
   "outputs": [
    {
     "data": {
      "text/html": [
       "<div>\n",
       "<style scoped>\n",
       "    .dataframe tbody tr th:only-of-type {\n",
       "        vertical-align: middle;\n",
       "    }\n",
       "\n",
       "    .dataframe tbody tr th {\n",
       "        vertical-align: top;\n",
       "    }\n",
       "\n",
       "    .dataframe thead th {\n",
       "        text-align: right;\n",
       "    }\n",
       "</style>\n",
       "<table border=\"1\" class=\"dataframe\">\n",
       "  <thead>\n",
       "    <tr style=\"text-align: right;\">\n",
       "      <th></th>\n",
       "      <th>Apoptotic</th>\n",
       "      <th>Apical</th>\n",
       "      <th>Basal</th>\n",
       "    </tr>\n",
       "  </thead>\n",
       "  <tbody>\n",
       "    <tr>\n",
       "      <th>count</th>\n",
       "      <td>134.000000</td>\n",
       "      <td>134.000000</td>\n",
       "      <td>134.000000</td>\n",
       "    </tr>\n",
       "    <tr>\n",
       "      <th>mean</th>\n",
       "      <td>0.186567</td>\n",
       "      <td>8.593410</td>\n",
       "      <td>16.192388</td>\n",
       "    </tr>\n",
       "    <tr>\n",
       "      <th>std</th>\n",
       "      <td>0.391025</td>\n",
       "      <td>4.425846</td>\n",
       "      <td>5.946123</td>\n",
       "    </tr>\n",
       "    <tr>\n",
       "      <th>min</th>\n",
       "      <td>0.000000</td>\n",
       "      <td>1.080000</td>\n",
       "      <td>5.410000</td>\n",
       "    </tr>\n",
       "    <tr>\n",
       "      <th>25%</th>\n",
       "      <td>0.000000</td>\n",
       "      <td>5.420000</td>\n",
       "      <td>11.025000</td>\n",
       "    </tr>\n",
       "    <tr>\n",
       "      <th>50%</th>\n",
       "      <td>0.000000</td>\n",
       "      <td>7.670000</td>\n",
       "      <td>16.250000</td>\n",
       "    </tr>\n",
       "    <tr>\n",
       "      <th>75%</th>\n",
       "      <td>0.000000</td>\n",
       "      <td>11.345000</td>\n",
       "      <td>20.575000</td>\n",
       "    </tr>\n",
       "    <tr>\n",
       "      <th>max</th>\n",
       "      <td>1.000000</td>\n",
       "      <td>22.460000</td>\n",
       "      <td>29.600000</td>\n",
       "    </tr>\n",
       "  </tbody>\n",
       "</table>\n",
       "</div>"
      ],
      "text/plain": [
       "        Apoptotic      Apical       Basal\n",
       "count  134.000000  134.000000  134.000000\n",
       "mean     0.186567    8.593410   16.192388\n",
       "std      0.391025    4.425846    5.946123\n",
       "min      0.000000    1.080000    5.410000\n",
       "25%      0.000000    5.420000   11.025000\n",
       "50%      0.000000    7.670000   16.250000\n",
       "75%      0.000000   11.345000   20.575000\n",
       "max      1.000000   22.460000   29.600000"
      ]
     },
     "execution_count": 4,
     "metadata": {},
     "output_type": "execute_result"
    }
   ],
   "source": [
    "# Provides basic information about the numeric columns.\n",
    "data.describe()"
   ]
  },
  {
   "cell_type": "markdown",
   "metadata": {},
   "source": []
  },
  {
   "cell_type": "code",
   "execution_count": 5,
   "metadata": {},
   "outputs": [],
   "source": [
    "# 1- Add a column that calculates the normalized position of the core (pos = apical/(apical+basal))\n",
    "data['normalized_position'] = data.Apical/(data.Apical+data.Basal)"
   ]
  },
  {
   "cell_type": "code",
   "execution_count": 23,
   "metadata": {},
   "outputs": [
    {
     "data": {
      "text/html": [
       "<div>\n",
       "<style scoped>\n",
       "    .dataframe tbody tr th:only-of-type {\n",
       "        vertical-align: middle;\n",
       "    }\n",
       "\n",
       "    .dataframe tbody tr th {\n",
       "        vertical-align: top;\n",
       "    }\n",
       "\n",
       "    .dataframe thead th {\n",
       "        text-align: right;\n",
       "    }\n",
       "</style>\n",
       "<table border=\"1\" class=\"dataframe\">\n",
       "  <thead>\n",
       "    <tr style=\"text-align: right;\">\n",
       "      <th></th>\n",
       "      <th>Condition</th>\n",
       "      <th>Apoptotic</th>\n",
       "      <th>Apical</th>\n",
       "      <th>Basal</th>\n",
       "      <th>Fichier</th>\n",
       "      <th>normalized_position</th>\n",
       "    </tr>\n",
       "  </thead>\n",
       "  <tbody>\n",
       "    <tr>\n",
       "      <th>0</th>\n",
       "      <td>ctrl</td>\n",
       "      <td>1</td>\n",
       "      <td>13.10</td>\n",
       "      <td>14.2</td>\n",
       "      <td>2015-02-11 sqhGFP Shot Dcp1_p1</td>\n",
       "      <td>0.479853</td>\n",
       "    </tr>\n",
       "    <tr>\n",
       "      <th>1</th>\n",
       "      <td>ctrl</td>\n",
       "      <td>0</td>\n",
       "      <td>11.50</td>\n",
       "      <td>15.5</td>\n",
       "      <td>2015-02-11 sqhGFP Shot Dcp1_p1</td>\n",
       "      <td>0.425926</td>\n",
       "    </tr>\n",
       "    <tr>\n",
       "      <th>2</th>\n",
       "      <td>ctrl</td>\n",
       "      <td>0</td>\n",
       "      <td>7.39</td>\n",
       "      <td>20.2</td>\n",
       "      <td>2015-02-11 sqhGFP Shot Dcp1_p1</td>\n",
       "      <td>0.267851</td>\n",
       "    </tr>\n",
       "    <tr>\n",
       "      <th>3</th>\n",
       "      <td>ctrl</td>\n",
       "      <td>0</td>\n",
       "      <td>5.55</td>\n",
       "      <td>22.4</td>\n",
       "      <td>2015-02-11 sqhGFP Shot Dcp1_p1</td>\n",
       "      <td>0.198569</td>\n",
       "    </tr>\n",
       "    <tr>\n",
       "      <th>4</th>\n",
       "      <td>ctrl</td>\n",
       "      <td>0</td>\n",
       "      <td>4.51</td>\n",
       "      <td>22.7</td>\n",
       "      <td>2015-02-11 sqhGFP Shot Dcp1_p1</td>\n",
       "      <td>0.165748</td>\n",
       "    </tr>\n",
       "  </tbody>\n",
       "</table>\n",
       "</div>"
      ],
      "text/plain": [
       "  Condition  Apoptotic  Apical  Basal                         Fichier  \\\n",
       "0      ctrl          1   13.10   14.2  2015-02-11 sqhGFP Shot Dcp1_p1   \n",
       "1      ctrl          0   11.50   15.5  2015-02-11 sqhGFP Shot Dcp1_p1   \n",
       "2      ctrl          0    7.39   20.2  2015-02-11 sqhGFP Shot Dcp1_p1   \n",
       "3      ctrl          0    5.55   22.4  2015-02-11 sqhGFP Shot Dcp1_p1   \n",
       "4      ctrl          0    4.51   22.7  2015-02-11 sqhGFP Shot Dcp1_p1   \n",
       "\n",
       "   normalized_position  \n",
       "0             0.479853  \n",
       "1             0.425926  \n",
       "2             0.267851  \n",
       "3             0.198569  \n",
       "4             0.165748  "
      ]
     },
     "execution_count": 23,
     "metadata": {},
     "output_type": "execute_result"
    }
   ],
   "source": [
    "# You can see this new column\n",
    "data.head()"
   ]
  },
  {
   "cell_type": "code",
   "execution_count": 28,
   "metadata": {},
   "outputs": [
    {
     "data": {
      "text/plain": [
       "<matplotlib.axes._subplots.AxesSubplot at 0x242493d3be0>"
      ]
     },
     "execution_count": 28,
     "metadata": {},
     "output_type": "execute_result"
    },
    {
     "data": {
      "image/png": "[encoded data removed]",
      "text/plain": [
       "<Figure size 720x360 with 1 Axes>"
      ]
     },
     "metadata": {},
     "output_type": "display_data"
    }
   ],
   "source": [
    "#2- Display the boxplot according to the Condition column, and according to the Condition and Apoptotic columns.\n",
    "fig = plt.figure(figsize=(10,5))\n",
    "ax = plt.axes()\n",
    "data.boxplot(column='normalized_position', by=['Condition', 'Apoptotic'], ax=ax)"
   ]
  },
  {
   "cell_type": "code",
   "execution_count": null,
   "metadata": {},
   "outputs": [],
   "source": []
  },
  {
   "cell_type": "code",
   "execution_count": 6,
   "metadata": {},
   "outputs": [
    {
     "name": "stdout",
     "output_type": "stream",
     "text": [
      "stat=787.000, p=0.000\n",
      "Probably different distributions\n"
     ]
    }
   ],
   "source": [
    "# 3- Do the statistical tests to see if there are significant differences or not. \n",
    "\n",
    "# It is possible to create intermediate variables that contain the filtered/wanted data\n",
    "ctr_apopto = data[(data.Condition=='ctrl') & (data.Apoptotic==1)]['normalized_position']\n",
    "ctr_no_apopto = data[(data.Condition=='ctrl') & (data.Apoptotic==0)]['normalized_position']\n",
    "\n",
    "stat, p = stats.mannwhitneyu(ctr_apopto, ctr_no_apopto)\n",
    "\n",
    "print('stat=%.3f, p=%.3f' % (stat, p))\n",
    "if p > 0.05:\n",
    "    print('Probably the same distribution')\n",
    "else:\n",
    "    print('Probably different distributions')"
   ]
  },
  {
   "cell_type": "code",
   "execution_count": null,
   "metadata": {},
   "outputs": [],
   "source": []
  },
  {
   "cell_type": "code",
   "execution_count": null,
   "metadata": {},
   "outputs": [],
   "source": []
  }
 ],
 "metadata": {
  "kernelspec": {
   "display_name": "Python 3 (ipykernel)",
   "language": "python",
   "name": "python3"
  },
  "language_info": {
   "codemirror_mode": {
    "name": "ipython",
    "version": 3
   },
   "file_extension": ".py",
   "mimetype": "text/x-python",
   "name": "python",
   "nbconvert_exporter": "python",
   "pygments_lexer": "ipython3",
   "version": "3.9.12"
  }
 },
 "nbformat": 4,
 "nbformat_minor": 2
}
