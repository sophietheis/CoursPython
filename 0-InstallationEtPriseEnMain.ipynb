{
 "cells": [
  {
   "cell_type": "markdown",
   "metadata": {},
   "source": [
    "# Installation d'anaconda et de jupyter"
   ]
  },
  {
   "cell_type": "markdown",
   "metadata": {},
   "source": [
    "Allez sur le site : https://www.anaconda.com/.  \n",
    "Télécharger la version d'anaconda correspondant à votre système d'exploitation, avec la version de **<span style='color:red'>python 3.7</span>**.   \n",
    "Suivez les instructions d'installation."
   ]
  },
  {
   "cell_type": "markdown",
   "metadata": {},
   "source": [
    "### Changer le dossier de travail\n",
    "\n",
    "\n",
    "C'est le petit point technique, il faut changer le dossier d'ouverture par défaut de jupyter.  \n",
    "Dans un l'invite de commande (ouvrez le menu windows et taper `cmd` pour ouvrir l'invite de commande), tapez la ligne :  \n",
    "`jupyter notebook --generate-config`   \n",
    "Cette commande vous donne un chemin vers un fichier, ouvrez ce fichier (celui-ci peut se trouver dans un dossier caché, coché 'Elements masqués' dans l'explorateur de fichiers pour les voir).  \n",
    "\n",
    "Dans le fichier, cherchez la ligne ** #c.NotebookApp.notebook_dir = '' **  \n",
    "Remplacer par **c.NotebookApp.notebook_dir = <span style='color:red'>D:/Documents/Code</span> **  \n",
    "Ne pas oubliez de supprimer le `#` au début de la ligne.   \n",
    "Sauvegardez le fichier.\n"
   ]
  },
  {
   "cell_type": "markdown",
   "metadata": {},
   "source": [
    "Ouvrez anaconda.  \n",
    "<img src=\"images/0_0_anaconda.png\" alt=\"drawing\" width=\"600\"/>   \n",
    "\n",
    "\n",
    "\n"
   ]
  },
  {
   "cell_type": "markdown",
   "metadata": {},
   "source": [
    "### Installation d'un package avec Anaconda\n",
    "\n",
    "Tout n'est pas inclus de manière native lorsque l'on a installé python. Certaine fonctionnalité, plus ou moins spécifique, nécessite l'installation de package (ou librairie).  \n",
    "Pour installer un nouveau package, on va se placer dans le logiciel _Anaconda_, et vous allez vous placez dans l'onglet `environnement` à gauche. \n",
    "<img src=\"images/0_1_Environnement.png\" width=\"600\"/>  \n",
    "Dans cet onglet, vous allez pouvoir voir la liste des packages qui sont déjà installés, en choisissant `installed` dans le menu déroulant à gauche du bouton `channel`. \n",
    "\n",
    "Pour installer un nouveau package, placer vous en `all` dans le menu déroulant. Dans le cadre `search packages`tapez le nom du package que vous souhaitez installer. Par exemple, vous pouvez installer le package `plotly` qui permet de faire des graphes intéractifs. "
   ]
  },
  {
   "cell_type": "markdown",
   "metadata": {},
   "source": [
    "### Lancer et utiliser Jupyter Notebook\n",
    "\n",
    "Lorsque vous vous trouvez dans l'onglet Home d'Anaconda, vous pouvez lancer différents programmes. Ici, nous allons nous interesser uniquement à Jupyter notebook.  \n",
    "Lancer Jupyter notebook en cliquant sur `Launch`. \n",
    "<img src=\"images/0_0_anaconda.png\" alt=\"drawing\" width=\"600\"/>  "
   ]
  },
  {
   "attachments": {},
   "cell_type": "markdown",
   "metadata": {},
   "source": [
    "Votre navigateur web préféré va se lancer et vous allez vous trouvez sur la page suivante :  \n",
    "<img src = \"images/0_2_AccueilNotebook.png\" alt=\"drawing\" width=\"600\"/>\n",
    "Vous allez pouvoir retrouver :\n",
    "- se déplacer dans l'arborescence (1)\n",
    "- les différents fichiers (2), actifs (en vert) et non actif (en gris)\n",
    "- la création de nouveaux fichiers/dossiers (3)\n"
   ]
  },
  {
   "cell_type": "markdown",
   "metadata": {},
   "source": [
    "Nous allons créer notre premier fichier. Cliquer sur `New` en haut à droite de la page, et choisissez `Python 3`.   \n",
    "Un fichier nommé Untitle.ipynb s'est créé dans le répertoire de travail et un nouvel onglet s'est ouvert dans votre navigateur.\n",
    "\n",
    "<img src = \"images/0_3_notebook.png\" alt=\"drawing\" width=\"600\"/>\n",
    "\n",
    "Vous pouvez renommer le fichier en haut de la page. \n",
    "Comme vous pouvez le voir, la page est constitué de plusieurs éléments : en haut d'une barre des tâches (1) et dans le corps de la page, d'une cellule (2).  \n",
    "On peut voir le corps du document comme un tableur à une seule colonne. On va y retrouver un empilement de cellules de texte et de code.   \n",
    "Ces différentes cellules peuvent avoir différents rôles : \n",
    "- écrire du texte desciptif\n",
    "- écrire du code et visualiser des graphiques\n",
    "\n",
    "Vous pouvez voir dans l'exemple suivant :\n",
    "- une cellule de titre\n",
    "- une cellule de texte\n",
    "- une cellule de code avec l'affichage d'un graphique\n",
    "\n",
    "<img src = \"images/0_4_notebookexemple1.png\" alt=\"drawing\" width=\"600\"/>\n",
    "Ceci est la version \"executée\" du code.  \n",
    "Voici la version en mode édition, c'est à dire avant de dire à l'ordinateur d'éxécuter le code\n",
    "<img src = \"images/0_5_notebookexemple2.png\" alt=\"drawing\" width=\"600\"/>\n"
   ]
  },
  {
   "cell_type": "markdown",
   "metadata": {},
   "source": []
  }
 ],
 "metadata": {
  "kernelspec": {
   "display_name": "Python 3",
   "language": "python",
   "name": "python3"
  },
  "language_info": {
   "codemirror_mode": {
    "name": "ipython",
    "version": 3
   },
   "file_extension": ".py",
   "mimetype": "text/x-python",
   "name": "python",
   "nbconvert_exporter": "python",
   "pygments_lexer": "ipython3",
   "version": "3.6.5"
  }
 },
 "nbformat": 4,
 "nbformat_minor": 2
}
