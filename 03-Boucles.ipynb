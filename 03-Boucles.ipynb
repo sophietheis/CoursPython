{
 "cells": [
  {
   "cell_type": "markdown",
   "metadata": {},
   "source": [
    "# Boucle for"
   ]
  },
  {
   "cell_type": "markdown",
   "metadata": {},
   "source": [
    "Il arrive qu'on soit amené à répéter plusieurs fois une même instruction. Les boucles von aider à réaliser ces taches répétitives de manière plus efficace.   \n",
    "Imaginez que vous souhaitez afficher les éléments d'une liste les uns après les autres. Afin d'éviter d'écrire l'instruction print pour tout les éléments de la liste on va utiliser une boucle.  \n",
    "```\n",
    "liste_AC = ['cell_mask', 'dcp1', '']\n",
    "for ac in liste_AC :\n",
    "    print(ac)\n",
    "```  \n",
    "La variable _ac_ est appelée **variable d'itération**, elle prend successivement les différents valeurs de la liste _liste_AC_ à chaque itération de la boucle.   \n",
    "Une autre manière de faire est de passer par les indices de la liste (c'est à dire la position). Cela peut être utile lorsque l'on veut travailler sur plusieurs listes en même temps.\n",
    "```\n",
    "quantite = [100, 200, 50]\n",
    "liste_AC = ['cell_mask', 'dcp1', '']\n",
    "for i in range(len(liste_AC)) :\n",
    "    print(liste_AC[i])\n",
    "    print(quantite[i])\n",
    "```\n",
    "Notons plusieurs choses dans cet exemple : \n",
    "- **len** permet d'obtenir la taille d'une liste\n",
    "- **range** permet de générer une suite arithmétique. range(10) permet de créer la suite de nombre 0 1 2 3 4 5 6 7 8 9. Il est possible de ne pas commencer la suite à 0 : range(2,10) créer la suite 2 3 4 5 6 7 8 9. Noter également que le nombre max n'est pas inclus. "
   ]
  },
  {
   "cell_type": "markdown",
   "metadata": {},
   "source": [
    "# Boucle while\n",
    "\n",
    "Une alternative à la boucle for est la boucle while. Dans ce cas, la série d'instructions à l'intérieur du while est exécutée tant que la condition du while est vraie. Pour fonctionner, la boucle while à besoin de différents éléments : \n",
    "- Initialisation de la variable d'itération avant la boucle (ligne 1)\n",
    "- Test de la variable d'itération associée à l'instruction while (ligne 2)\n",
    "- Mise à jour de la variable d'itération à l'intérieur de la boucle (ligne 4)\n",
    "Remarque : Si vous oubliez la mise à jour de la variable, vous allez vous retrouver dans ce que l'on appelle une boucle infinie, ce qui veut dire que la boucle ne s'arrêtera jamais puisque la condition sera toujours vraie. \n",
    "```\n",
    "i=1\n",
    "while i<=5:\n",
    "    print(i)\n",
    "    i = i+1\n",
    "```"
   ]
  },
  {
   "cell_type": "code",
   "execution_count": null,
   "metadata": {},
   "outputs": [],
   "source": []
  },
  {
   "cell_type": "markdown",
   "metadata": {},
   "source": [
    "## Exercice\n",
    "\n",
    "Créer une liste des jours de la semaine et afficher tout les éléments de cette liste de 3 manières différents (2 for et 1 while)"
   ]
  },
  {
   "cell_type": "code",
   "execution_count": null,
   "metadata": {},
   "outputs": [],
   "source": []
  },
  {
   "cell_type": "code",
   "execution_count": null,
   "metadata": {},
   "outputs": [],
   "source": []
  },
  {
   "cell_type": "code",
   "execution_count": null,
   "metadata": {},
   "outputs": [],
   "source": []
  }
 ],
 "metadata": {
  "kernelspec": {
   "display_name": "Python 3",
   "language": "python",
   "name": "python3"
  },
  "language_info": {
   "codemirror_mode": {
    "name": "ipython",
    "version": 3
   },
   "file_extension": ".py",
   "mimetype": "text/x-python",
   "name": "python",
   "nbconvert_exporter": "python",
   "pygments_lexer": "ipython3",
   "version": "3.6.5"
  }
 },
 "nbformat": 4,
 "nbformat_minor": 2
}
