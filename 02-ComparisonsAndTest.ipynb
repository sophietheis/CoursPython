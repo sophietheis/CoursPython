{
 "cells": [
  {
   "cell_type": "markdown",
   "metadata": {},
   "source": [
    "# Comparisons\n",
    "\n",
    "It is possible to make a series of comparisons between the contents of two variables.   \n",
    "<img src=\"images/2_0_comparaisons.png\" alt=\"drawing\"/>    \n",
    "\n",
    "Python will return `True` if the comparison is correct, and `False` if it is false.   \n",
    "Be careful not to confuse the assignment operator **=** with the comparison operator **==**.   \n",
    "It is also possible to do comparisons on strings. However, only the **!=** and **==** tests make sense. The other operators compare the alphabetical order of characters. "
   ]
  },
  {
   "cell_type": "markdown",
   "metadata": {},
   "source": [
    "# Tests"
   ]
  },
  {
   "cell_type": "markdown",
   "metadata": {},
   "source": [
    "In this part, we will learn to use conditional structures that will allow us to execute or not a line of code according to a certain condition. It will allow the computer to make decisions. For example subtract 1 from a number if it is greater than 1.   \n",
    "The structure to write a condition is of the form:   \n",
    "```\n",
    "if _condition_ :\n",
    "    do_this\n",
    "else:\n",
    "    do_that\n",
    "```  \n",
    "Note here the position of the lines (their indentations). All instructions that are related to a condition must be one tab behind the conditional line (called an instruction block).  \n",
    "For example :\n",
    "```\n",
    "nb=10\n",
    "if nb>1:     # If nb is higher than 1\n",
    "    nb=nb-1      # Substract 1 to nb\n",
    "else :\n",
    "    nb=nb/2\n",
    "```  "
   ]
  },
  {
   "cell_type": "markdown",
   "metadata": {},
   "source": [
    "### Exercice\n",
    "\n",
    "Create a variable with your age.\n",
    "Create a condition that tests whether the age entered is for a person of age or not, and display `You are of age.` or `You are a minor.` as appropriate."
   ]
  },
  {
   "cell_type": "code",
   "execution_count": null,
   "metadata": {},
   "outputs": [],
   "source": []
  },
  {
   "cell_type": "markdown",
   "metadata": {},
   "source": [
    "As you can see, so far we can only handle cases of the type `if...then...else...then`. But it can be interesting to use more complex conditional strings of the type `if...then...else if...then`.  \n",
    "For example, we can display the state of water according to its temperature (temperature<0 -> solid, temperature >100 -> gaseous, otherwise liquid):  \n",
    "```\n",
    "if temperature<0:\n",
    "    print('solid')\n",
    "elif (temperature>100):\n",
    "    print('gaseous')\n",
    "else:\n",
    "    print('liquid')\n",
    "```\n"
   ]
  },
  {
   "cell_type": "markdown",
   "metadata": {},
   "source": [
    "### Exercice\n",
    "\n",
    "Create a variable with your age.\n",
    "Create a program that tests whether the age entered is for a child (<12 years), adult (>18 years) or teenager (between 12 and 18 years)."
   ]
  },
  {
   "cell_type": "code",
   "execution_count": null,
   "metadata": {},
   "outputs": [],
   "source": []
  },
  {
   "cell_type": "markdown",
   "metadata": {},
   "source": [
    "## Multiple tests \n",
    "\n",
    "Multiple tests allow you to test several conditions at the same time using the **ET** (and), **OR** (or) operators (these are Boolean operators).   \n",
    "Here are the recall tables for the **ET** operator: \n",
    "<img src=\"images/2_1_comparateur_ET.png\" alt=\"drawing\"/> \n",
    "Et de l'opérateur **OU**:\n",
    "<img src=\"images/2_2_comparateur_OU.png\" alt=\"drawing\"/> \n",
    "\n",
    "For example, one might ask whether the two variables a and b are positive.    \n",
    "```python\n",
    "a=2\n",
    "b=4\n",
    "if a>0 and b>0:\n",
    "    print('Both variables are positives')\n",
    "```\n",
    "Note that the same result can be obtained by using two nested if statements:   \n",
    "```python\n",
    "if a>0:\n",
    "    if b>0:\n",
    "        print('Both variables are positives')\n",
    "```"
   ]
  },
  {
   "cell_type": "markdown",
   "metadata": {},
   "source": [
    "## Exercice \n",
    "\n",
    "Complete the multiple testing example, and display the other possible cases ('Both variables are negative', 'One variable is positive and the other is negative')."
   ]
  },
  {
   "cell_type": "code",
   "execution_count": null,
   "metadata": {},
   "outputs": [],
   "source": []
  }
 ],
 "metadata": {
  "kernelspec": {
   "display_name": "Python 3 (ipykernel)",
   "language": "python",
   "name": "python3"
  },
  "language_info": {
   "codemirror_mode": {
    "name": "ipython",
    "version": 3
   },
   "file_extension": ".py",
   "mimetype": "text/x-python",
   "name": "python",
   "nbconvert_exporter": "python",
   "pygments_lexer": "ipython3",
   "version": "3.9.12"
  }
 },
 "nbformat": 4,
 "nbformat_minor": 2
}
