{
 "cells": [
  {
   "cell_type": "markdown",
   "metadata": {},
   "source": [
    "On va voir ici les bases de python :\n",
    "- les variables\n",
    "- les conditions\n",
    "- les boucles\n",
    "\n",
    "\n",
    "Pour aller plus loin : https://inforef.be/swi/download/apprendre_python3.pdf"
   ]
  },
  {
   "cell_type": "markdown",
   "metadata": {},
   "source": [
    "# Les variables"
   ]
  },
  {
   "cell_type": "markdown",
   "metadata": {},
   "source": [
    "Une variable est une donnée de votre programme auquelle est associé une valeur. Elles permettent de stocker des valeurs pour être utilisé plus tard. Les valeurs des variables peuvent changer au cours du temps. On ne peut pas se passer des variables lorsque l'on écrit un programme. \n",
    "\n",
    "Pour donner une valeur à une variable, il suffit d'écrire :  \n",
    "<center> `nom_de_la_variable = valeur` </center>\n",
    "Par exemple pour stocker mon age il suffit d'écrire :   \n",
    "<center> `age = 26` </center>\n",
    "Cette étape est appelé \"affectation de variable\", dans cette exemple, on a affecté la valeur `26` à la variable `age`.\n",
    "\n",
    "\n",
    "Pour votre organisation et pouvoir vous y retrouver dans votre code plus tard, il est nécessaire de respecter quelques règles de syntaxe : \n",
    "- le nom de la variable ne peut etre composé que de lettres, majuscules ou minuscules, de chiffres et du symbole souligné \"_\"\n",
    "- le nom de la variable ne peut pas commencer par un chiffre\n",
    "- Python est sensible à la casse du mot, c'est à dire que la variage `AGE` est différente de la variable `age` qui est différente de la variable `aGe`...\n",
    "- le nom de la variable doit être explicite par rapport à son rôle. C'est-à-dire, n'appelez pas vos variables `a`, `b`, `c` et `d`. Lorsque vous aurez besoin de réutiliser votre code, vous ne saurez plus quelle variable correspond à quoi. \n",
    "\n"
   ]
  },
  {
   "cell_type": "markdown",
   "metadata": {},
   "source": [
    "### Exercice\n",
    "\n",
    "Créer une variable avec votre age, et afficher la. Puis ajouter 5 à cette variable et afficher la.   \n",
    "Quelle est la nouvelle valeur de votre variable ? "
   ]
  },
  {
   "cell_type": "code",
   "execution_count": 1,
   "metadata": {},
   "outputs": [
    {
     "name": "stdout",
     "output_type": "stream",
     "text": [
      "31\n"
     ]
    }
   ],
   "source": [
    "age = 26\n",
    "age = age + 5 # ou age += 5\n",
    "print(age)"
   ]
  },
  {
   "cell_type": "markdown",
   "metadata": {},
   "source": [
    "# Les conditions"
   ]
  },
  {
   "cell_type": "markdown",
   "metadata": {},
   "source": [
    "Dans cette partie, on va apprendre à utiliser des structures conditionnelles qui vont nous permettre d'executer ou non une ligne de code selon certaine condition. Par exemple soustraire 1 à un nombre si celui ci est supérieur à 1.   \n",
    "La structure pour écrirer une condition est de la forme:  \n",
    "`if _condition_ :\n",
    "    je_fais_cette_action\n",
    "else:\n",
    "    je_fais_une_autre_action\n",
    "`  \n",
    "Noter ici la position des lignes (leurs indentations). Toutes les instructions qui sont relatives à une condition doivent se situer une tabulation en arrière de la ligne conditionnelle (appelé bloc d'instruction).  \n",
    "Par exemple :  \n",
    "`\n",
    "nb=10\n",
    "if nb>1:     # Si nb est supérieur à 1\n",
    "    nb=nb-1      # On retire 1 à nb\n",
    "else :\n",
    "    nb=nb/2\n",
    "`  "
   ]
  },
  {
   "cell_type": "markdown",
   "metadata": {},
   "source": [
    "### Exercice\n",
    "\n",
    "Créer une variable avec votre age.\n",
    "Créer une condition qui teste si l'age saisie correspond à une personne majeure ou non, et afficher `Vous êtes majeur.` ou `Vous êtes mineur.` en fonction des cas."
   ]
  },
  {
   "cell_type": "code",
   "execution_count": 2,
   "metadata": {},
   "outputs": [
    {
     "name": "stdout",
     "output_type": "stream",
     "text": [
      "Vous êtes majeur.\n"
     ]
    }
   ],
   "source": [
    "age = 26\n",
    "if age < 18:\n",
    "    print('Vous êtes mineur.')\n",
    "else:\n",
    "    print('Vous êtes majeur.')"
   ]
  },
  {
   "cell_type": "markdown",
   "metadata": {},
   "source": [
    "Comme vous pouvez le voir, jusqu'à présent on ne peut gérer uniquement des cas du type `si...alors...sinon`. Or il peut être interessant d'utiliser des strutures conditionnelles plus complexe du type `si...alors... sinon si... alors`.\n",
    "\n"
   ]
  },
  {
   "cell_type": "code",
   "execution_count": null,
   "metadata": {},
   "outputs": [],
   "source": []
  },
  {
   "cell_type": "code",
   "execution_count": null,
   "metadata": {},
   "outputs": [],
   "source": []
  },
  {
   "cell_type": "code",
   "execution_count": null,
   "metadata": {},
   "outputs": [],
   "source": []
  },
  {
   "cell_type": "code",
   "execution_count": null,
   "metadata": {},
   "outputs": [],
   "source": []
  },
  {
   "cell_type": "markdown",
   "metadata": {},
   "source": [
    "# Utilisation des librairies scientifiques - Numpy Scipy Pandas"
   ]
  },
  {
   "cell_type": "markdown",
   "metadata": {},
   "source": [
    "## Numpy\n",
    "\n",
    "La bibliothèque Numpy permet d'effectuer des calculs numériques. De plus elle permet une gestion facilitée des tableaux de nombres. \n",
    "Cette librairie est souvent utilisées avec la librairie Pandas, qui elle permet la gestion de tableau contenant différents types de données (int, string, float...)"
   ]
  },
  {
   "cell_type": "markdown",
   "metadata": {},
   "source": [
    "### Création d'un tableau\n",
    "Comme on a vu précédemment pour créer un tableau on utilise `[]`. \n",
    "De la même manière, on peut créer un `numpy.array()` de la même manière.  \n"
   ]
  },
  {
   "cell_type": "code",
   "execution_count": 5,
   "metadata": {},
   "outputs": [],
   "source": [
    "#Importation de la librarie numpy\n",
    "import numpy as np\n",
    "\n",
    "# Ceci est un tableau en une dimension\n",
    "tableau1d = np.array([1,2,3])\n",
    "# Ceci est un tableau en deux dimension\n",
    "tableau2d = np.array([[1,2,3],[4,5,6]])"
   ]
  },
  {
   "cell_type": "markdown",
   "metadata": {},
   "source": [
    "### Accès aux éléments d'un tableau.\n",
    "On accède aux éléments du tableau de la même manière que pour les listes, avec les `[]`.   \n",
    "ATTENTION ! Les indices des éléments commencent à zéro."
   ]
  },
  {
   "cell_type": "code",
   "execution_count": null,
   "metadata": {},
   "outputs": [],
   "source": [
    "tableau1d[0\n",
    "         \n",
    "         ]"
   ]
  },
  {
   "cell_type": "code",
   "execution_count": null,
   "metadata": {},
   "outputs": [],
   "source": []
  },
  {
   "cell_type": "code",
   "execution_count": null,
   "metadata": {},
   "outputs": [],
   "source": []
  },
  {
   "cell_type": "code",
   "execution_count": null,
   "metadata": {},
   "outputs": [],
   "source": []
  },
  {
   "cell_type": "code",
   "execution_count": null,
   "metadata": {},
   "outputs": [],
   "source": []
  },
  {
   "cell_type": "code",
   "execution_count": null,
   "metadata": {},
   "outputs": [],
   "source": []
  }
 ],
 "metadata": {
  "kernelspec": {
   "display_name": "Python 3",
   "language": "python",
   "name": "python3"
  },
  "language_info": {
   "codemirror_mode": {
    "name": "ipython",
    "version": 3
   },
   "file_extension": ".py",
   "mimetype": "text/x-python",
   "name": "python",
   "nbconvert_exporter": "python",
   "pygments_lexer": "ipython3",
   "version": "3.6.5"
  }
 },
 "nbformat": 4,
 "nbformat_minor": 2
}
