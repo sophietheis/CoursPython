{
 "cells": [
  {
   "cell_type": "markdown",
   "metadata": {},
   "source": [
    "# Installation of anaconda and jupyter"
   ]
  },
  {
   "cell_type": "markdown",
   "metadata": {},
   "source": [
    "Go to : https://www.anaconda.com/. Download the version of anaconda corresponding to your operating system, with the version of **<span style='color:red'>python 3.x</span>**. Follow the installation instructions."
   ]
  },
  {
   "cell_type": "markdown",
   "metadata": {},
   "source": [
    "### Changing the working folder\n",
    "\n",
    "\n",
    "This is the small technical point, you have to change the default opening folder of jupyter.\n",
    "In a command prompt (open the windows menu and type `cmd` to open the command prompt, or go to 'anaconda prompt'), type the line :  \n",
    "`jupyter notebook --generate-config`   \n",
    "This command gives you a path to a file, open the file (it may be in a hidden folder, check 'Hidden items' in the file explorer to see them).  \n",
    "\n",
    "In the file, look for the line ** #c.NotebookApp.notebook_dir = '' **  \n",
    "Replace by **c.NotebookApp.notebook_dir = <span style='color:red'>D:/Documents/Code</span> **  \n",
    "Do not forget to delete the `#` at the beginning of the line.  \n",
    "Save the file.\n"
   ]
  },
  {
   "attachments": {},
   "cell_type": "markdown",
   "metadata": {},
   "source": [
    "Open anaconda.  \n",
    "<img src=\"images/0_0_anaconda.png\"  width=\"600\"/>   "
   ]
  },
  {
   "cell_type": "markdown",
   "metadata": {},
   "source": [
    "### Installing a package with Anaconda\n",
    "\n",
    "Not everything is included natively when you install python. Some functionality, more or less specific, requires the installation of a package (or library).  \n",
    "To install a new package, you go to the _Anaconda_ software, and you go to the `environment` tab on the left. \n",
    "<img src=\"images/0_1_environnement.png\" width=\"600\"/>  \n",
    "In this tab, you will be able to see a list of packages that are already installed, by choosing `installed` from the drop-down menu to the left of the `channel` button. \n",
    "\n",
    "To install a new package, select `all` from the drop down menu. In the `search packages` box type in the name of the package you wish to install. For example, you can install the `plotly` package which allows you to make interactive graphs"
   ]
  },
  {
   "cell_type": "markdown",
   "metadata": {},
   "source": [
    "### Run and use Jupyter Notebook\n",
    "\n",
    "When you are in the Home tab of Anaconda, you can launch different programs. Here, we will only look at Jupyter notebook.  \n",
    "Launch Jupyter notebook by clicking on `Launch`. \n",
    "<img src=\"images/0_0_anaconda.png\" alt=\"drawing\" width=\"600\"/>  "
   ]
  },
  {
   "cell_type": "markdown",
   "metadata": {},
   "source": [
    "Your favourite web browser will launch and you will be taken to the following page:   \n",
    "<img src = \"images/0_2_AccueilNotebook.png\" alt=\"drawing\" width=\"600\"/>\n",
    "You will be able to find :\n",
    "- move around the tree (1)\n",
    "- the different files (2), active (in green) and not active (in grey)\n",
    "- the creation of new files/folders (3)\n"
   ]
  },
  {
   "cell_type": "markdown",
   "metadata": {},
   "source": [
    "We will create our first file. Click on `New` at the top right of the page, and choose `Python 3`.   \n",
    "A file called Untitle.ipynb has been created in the working directory and a new tab has opened in your browser.\n",
    "\n",
    "<img src = \"images/0_3_Notebook.png\" alt=\"drawing\" width=\"600\"/>\n",
    "\n",
    "You can rename the file at the top of the page. \n",
    "As you can see, the page is made up of several elements: at the top of a taskbar (1) and in the body of the page, a cell (2).  \n",
    "The body of the document can be seen as a single column spreadsheet. There will be a stack of text and code cells.   \n",
    "These different cells can have different roles: \n",
    "- write descriptive text\n",
    "- writing code and viewing graphics\n",
    "\n",
    "You can see in the following example\n",
    "- a title cell\n",
    "- a text cell\n",
    "- a code cell with the display of a graphic\n",
    "\n",
    "This is the \"executed\" version of the code :\n",
    "<img src = \"images/0_4_NotebookExemple1.png\" alt=\"drawing\" width=\"600\"/>\n",
    " \n",
    "This is the version in edit mode, i.e. before telling the computer to run the code :\n",
    "<img src = \"images/0_5_NotebookExemple2.png\" alt=\"drawing\" width=\"600\"/>\n"
   ]
  },
  {
   "cell_type": "markdown",
   "metadata": {},
   "source": [
    "# Comments\n",
    "\n",
    "It is strongly recommended that you comment on your code. This makes it easier to understand the successive steps of your reasoning, and to easily find what you wanted to do when you come back to your code later.  \n",
    "Comments make your program more readable.   \n",
    "Comment lines in Python start with the `#` symbol. "
   ]
  },
  {
   "cell_type": "code",
   "execution_count": null,
   "metadata": {},
   "outputs": [],
   "source": []
  }
 ],
 "metadata": {
  "kernelspec": {
   "display_name": "Python 3 (ipykernel)",
   "language": "python",
   "name": "python3"
  },
  "language_info": {
   "codemirror_mode": {
    "name": "ipython",
    "version": 3
   },
   "file_extension": ".py",
   "mimetype": "text/x-python",
   "name": "python",
   "nbconvert_exporter": "python",
   "pygments_lexer": "ipython3",
   "version": "3.9.12"
  }
 },
 "nbformat": 4,
 "nbformat_minor": 2
}
