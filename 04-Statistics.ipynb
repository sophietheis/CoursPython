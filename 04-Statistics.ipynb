{
 "cells": [
  {
   "cell_type": "markdown",
   "metadata": {},
   "source": [
    "In this section, I will give you some small examples of how to run the statistical tests that are most often used.  \n",
    "We will use the `scipy` library which contains all the functions for running statistical tests. "
   ]
  },
  {
   "cell_type": "markdown",
   "metadata": {},
   "source": [
    "## Chi² test\n",
    "Tests whether two categories of variables are independent or not.\n",
    "\n",
    "Assumptions\n",
    "- Observations are independent.\n",
    "- 25 or more examples in each cell of the contingency table.\n",
    "\n",
    "Interpretation\n",
    "- H0: The two samples are independent.\n",
    "- H1: There is a dependence between the two samples."
   ]
  },
  {
   "cell_type": "code",
   "execution_count": 1,
   "metadata": {},
   "outputs": [
    {
     "name": "stdout",
     "output_type": "stream",
     "text": [
      "stat=0.272, p=0.873\n",
      "Probably independent\n"
     ]
    }
   ],
   "source": [
    "# Example of the Chi-Squared Test\n",
    "from scipy.stats import chi2_contingency\n",
    "table = [[10, 20, 30],[6,  9,  17]]\n",
    "stat, p, dof, expected = chi2_contingency(table)\n",
    "print('stat=%.3f, p=%.3f' % (stat, p))\n",
    "if p > 0.05:\n",
    "    print('Probably independent')\n",
    "else:\n",
    "    print('Probably dependent')"
   ]
  },
  {
   "cell_type": "markdown",
   "metadata": {},
   "source": [
    "# Student T test\n",
    "Tests if the mean of two independent samples are significantly different.\n",
    "\n",
    "Assumptions\n",
    "- The observations in each group are independent and have an identical distribution.\n",
    "- The observations in each group have a normal distribution.\n",
    "- The observations in each group have the same variance.\n",
    "\n",
    "Interpretation\n",
    "- H0: The mean of the samples is equal.\n",
    "- H1: The mean of the samples is different."
   ]
  },
  {
   "cell_type": "code",
   "execution_count": 2,
   "metadata": {},
   "outputs": [
    {
     "name": "stdout",
     "output_type": "stream",
     "text": [
      "stat=-0.326, p=0.748\n",
      "Probably the same distribution\n"
     ]
    }
   ],
   "source": [
    "# Example of the Student's t-test\n",
    "from scipy.stats import ttest_ind\n",
    "data1 = [0.873, 2.817, 0.121, -0.945, -0.055, -1.436, 0.360, -1.478, -1.637, -1.869]\n",
    "data2 = [1.142, -0.432, -0.938, -0.729, -0.846, -0.157, 0.500, 1.183, -1.075, -0.169]\n",
    "stat, p = ttest_ind(data1, data2)\n",
    "print('stat=%.3f, p=%.3f' % (stat, p))\n",
    "if p > 0.05:\n",
    "    print('Probably the same distribution')\n",
    "else:\n",
    "    print('Probably different distributions')"
   ]
  },
  {
   "cell_type": "markdown",
   "metadata": {},
   "source": [
    "# Paired Student T-test\n",
    "\n",
    "Tests if the mean of two paired samples are significantly different.\n",
    "\n",
    "Assumptions\n",
    "- The observations in each group are independent and have an identical distribution.\n",
    "- The observations in each group have a normal distribution.\n",
    "- The observations in each group have the same variance.\n",
    "- The observations between two samples are paired.\n",
    "\n",
    "Interpretation\n",
    "- H0: The mean of the samples is equal.\n",
    "- H1: The mean of the samples is different."
   ]
  },
  {
   "cell_type": "code",
   "execution_count": 3,
   "metadata": {},
   "outputs": [
    {
     "name": "stdout",
     "output_type": "stream",
     "text": [
      "stat=-0.334, p=0.746\n",
      "Probably the same distribution\n"
     ]
    }
   ],
   "source": [
    "# Example of the Paired Student's t-test\n",
    "from scipy.stats import ttest_rel\n",
    "data1 = [0.873, 2.817, 0.121, -0.945, -0.055, -1.436, 0.360, -1.478, -1.637, -1.869]\n",
    "data2 = [1.142, -0.432, -0.938, -0.729, -0.846, -0.157, 0.500, 1.183, -1.075, -0.169]\n",
    "stat, p = ttest_rel(data1, data2)\n",
    "print('stat=%.3f, p=%.3f' % (stat, p))\n",
    "if p > 0.05:\n",
    "    print('Probably the same distribution')\n",
    "else:\n",
    "    print('Probably different distributions')"
   ]
  },
  {
   "cell_type": "markdown",
   "metadata": {},
   "source": [
    "# Anova\n",
    "Test if the mean of two or more independent samples are significantly different.\n",
    "\n",
    "Assumptions\n",
    "- The observations in each group are independent and have an identical distribution.\n",
    "- The observations in each group have a normal distribution.\n",
    "- The observations in each group have the same variance.\n",
    "\n",
    "Interpretation\n",
    "- H0: The mean of the samples is equal.\n",
    "- H1: The mean of the samples is different."
   ]
  },
  {
   "cell_type": "code",
   "execution_count": 4,
   "metadata": {},
   "outputs": [
    {
     "name": "stdout",
     "output_type": "stream",
     "text": [
      "stat=0.096, p=0.908\n",
      "Probably the same distribution\n"
     ]
    }
   ],
   "source": [
    "# Example of the Analysis of Variance Test\n",
    "from scipy.stats import f_oneway\n",
    "data1 = [0.873, 2.817, 0.121, -0.945, -0.055, -1.436, 0.360, -1.478, -1.637, -1.869]\n",
    "data2 = [1.142, -0.432, -0.938, -0.729, -0.846, -0.157, 0.500, 1.183, -1.075, -0.169]\n",
    "data3 = [-0.208, 0.696, 0.928, -1.148, -0.213, 0.229, 0.137, 0.269, -0.870, -1.204]\n",
    "stat, p = f_oneway(data1, data2, data3)\n",
    "print('stat=%.3f, p=%.3f' % (stat, p))\n",
    "if p > 0.05:\n",
    "    print('Probably the same distribution')\n",
    "else:\n",
    "    print('Probably different distributions')"
   ]
  },
  {
   "cell_type": "markdown",
   "metadata": {},
   "source": [
    "# Mann-Whitney test\n",
    "\n",
    "Tests whether the distribution of two independent samples is equal or not.\n",
    "\n",
    "Assumptions\n",
    "- The observations in each group are independent.\n",
    "- The observations in each group can be classified.\n",
    "\n",
    "Interpretation\n",
    "- H0: The distribution is equal.\n",
    "- H1: The distribution is different."
   ]
  },
  {
   "cell_type": "code",
   "execution_count": null,
   "metadata": {},
   "outputs": [],
   "source": [
    "# Example of the Mann-Whitney U Test\n",
    "from scipy.stats import mannwhitneyu\n",
    "data1 = [0.873, 2.817, 0.121, -0.945, -0.055, -1.436, 0.360, -1.478, -1.637, -1.869]\n",
    "data2 = [1.142, -0.432, -0.938, -0.729, -0.846, -0.157, 0.500, 1.183, -1.075, -0.169]\n",
    "stat, p = mannwhitneyu(data1, data2)\n",
    "print('stat=%.3f, p=%.3f' % (stat, p))\n",
    "if p > 0.05:\n",
    "    print('Probably the same distribution')\n",
    "else:\n",
    "    print('Probably different distributions')"
   ]
  },
  {
   "cell_type": "markdown",
   "metadata": {},
   "source": [
    "# Wilcoxon test\n",
    "Tests whether the distribution of two paired samples is equal or not.\n",
    "\n",
    "Assumptions\n",
    "- The observations in each group are independent.\n",
    "- The observations in each group can be classified.\n",
    "- Observations in between two samples are paired.\n",
    "\n",
    "Interpretation\n",
    "- H0: The distribution is equal.\n",
    "- H1: The distribution is different."
   ]
  },
  {
   "cell_type": "code",
   "execution_count": 6,
   "metadata": {},
   "outputs": [
    {
     "name": "stdout",
     "output_type": "stream",
     "text": [
      "stat=21.000, p=0.508\n",
      "Probably the same distribution\n"
     ]
    }
   ],
   "source": [
    "# Example of the Wilcoxon Signed-Rank Test\n",
    "from scipy.stats import wilcoxon\n",
    "data1 = [0.873, 2.817, 0.121, -0.945, -0.055, -1.436, 0.360, -1.478, -1.637, -1.869]\n",
    "data2 = [1.142, -0.432, -0.938, -0.729, -0.846, -0.157, 0.500, 1.183, -1.075, -0.169]\n",
    "stat, p = wilcoxon(data1, data2)\n",
    "print('stat=%.3f, p=%.3f' % (stat, p))\n",
    "if p > 0.05:\n",
    "    print('Probably the same distribution')\n",
    "else:\n",
    "    print('Probably different distributions')"
   ]
  },
  {
   "cell_type": "markdown",
   "metadata": {},
   "source": [
    "# Kruskall-Wallis test\n",
    "Tests whether the distribution of two or more independent samples is equal or not.\n",
    "\n",
    "Assumptions\n",
    "- The observations in each group are independent.\n",
    "- The observations in each group can be classified.\n",
    "\n",
    "Interpretation\n",
    "- H0: The distribution of all groups is equal.\n",
    "- H1: The distribution of one or more groups is different."
   ]
  },
  {
   "cell_type": "code",
   "execution_count": 7,
   "metadata": {},
   "outputs": [
    {
     "name": "stdout",
     "output_type": "stream",
     "text": [
      "stat=0.571, p=0.450\n",
      "Probably the same distribution\n"
     ]
    }
   ],
   "source": [
    "# Example of the Kruskal-Wallis H Test\n",
    "from scipy.stats import kruskal\n",
    "data1 = [0.873, 2.817, 0.121, -0.945, -0.055, -1.436, 0.360, -1.478, -1.637, -1.869]\n",
    "data2 = [1.142, -0.432, -0.938, -0.729, -0.846, -0.157, 0.500, 1.183, -1.075, -0.169]\n",
    "stat, p = kruskal(data1, data2)\n",
    "print('stat=%.3f, p=%.3f' % (stat, p))\n",
    "if p > 0.05:\n",
    "    print('Probably the same distribution')\n",
    "else:\n",
    "    print('Probably different distributions')"
   ]
  },
  {
   "cell_type": "markdown",
   "metadata": {},
   "source": [
    "# Friedman test\n",
    "Tests whether the distribution of two or more dependent samples is equal or not.\n",
    "\n",
    "Assumptions\n",
    "- The observations in each group are independent.\n",
    "- Observations in each group can be classified.\n",
    "- Observations are paired between groups\n",
    "\n",
    "Interpretation\n",
    "- H0: The distribution of all groups is equal.\n",
    "- H1: The distribution of one or more groups is different."
   ]
  },
  {
   "cell_type": "code",
   "execution_count": 5,
   "metadata": {},
   "outputs": [
    {
     "name": "stdout",
     "output_type": "stream",
     "text": [
      "stat=0.800, p=0.670\n",
      "Probably the same distribution\n"
     ]
    }
   ],
   "source": [
    "# Example of the Friedman Test\n",
    "from scipy.stats import friedmanchisquare\n",
    "data1 = [0.873, 2.817, 0.121, -0.945, -0.055, -1.436, 0.360, -1.478, -1.637, -1.869]\n",
    "data2 = [1.142, -0.432, -0.938, -0.729, -0.846, -0.157, 0.500, 1.183, -1.075, -0.169]\n",
    "data3 = [-0.208, 0.696, 0.928, -1.148, -0.213, 0.229, 0.137, 0.269, -0.870, -1.204]\n",
    "stat, p = friedmanchisquare(data1, data2, data3)\n",
    "print('stat=%.3f, p=%.3f' % (stat, p))\n",
    "if p > 0.05:\n",
    "    print('Probably the same distribution')\n",
    "else:\n",
    "    print('Probably different distributions')"
   ]
  }
 ],
 "metadata": {
  "kernelspec": {
   "display_name": "Python 3 (ipykernel)",
   "language": "python",
   "name": "python3"
  },
  "language_info": {
   "codemirror_mode": {
    "name": "ipython",
    "version": 3
   },
   "file_extension": ".py",
   "mimetype": "text/x-python",
   "name": "python",
   "nbconvert_exporter": "python",
   "pygments_lexer": "ipython3",
   "version": "3.9.12"
  }
 },
 "nbformat": 4,
 "nbformat_minor": 2
}
