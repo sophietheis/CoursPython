{
 "cells": [
  {
   "cell_type": "markdown",
   "metadata": {},
   "source": [
    "# Variables"
   ]
  },
  {
   "cell_type": "markdown",
   "metadata": {},
   "source": [
    "A variable is a piece of data in your program with an associated value. They are used to store values for later use. The values of variables can change over time. You cannot do without variables when writing a program. \n",
    "\n",
    "To give a value to a variable, simply write :  \n",
    "``` python \n",
    "variable_name = value\n",
    "```\n",
    "\n",
    "\n",
    "For example, to store my age, just write :  \n",
    "``` python \n",
    "age = 26\n",
    "```\n",
    "\n",
    "This step is called \"variable assignment\", in this example we have assigned the value `26` to the variable `age`.\n",
    "\n",
    "\n",
    "For your organization and to be able to find your way through your code later, it is advisable to respect some syntax rules: \n",
    "- the name of the variable can only be composed of letters, upper or lower case, numbers and the underlined symbol \"_\".\n",
    "- the variable name cannot start with a number\n",
    "- Python is case sensitive, i.e. the variable `AGE` is different from the variable `age` which is different from the variable `aGe`...\n",
    "- the name of the variable must be explicit with respect to its role. That is, don't call your variables `a`, `b`, `c` and `d`. When you need to reuse your code, you won't know which variable corresponds to what. "
   ]
  },
  {
   "cell_type": "markdown",
   "metadata": {},
   "source": [
    "## The type of variable\n",
    "\n",
    "The type of the variable corresponds to the nature of the variable. The main ones used are : \n",
    "- integers (int or integer)\n",
    "- decimals (float)\n",
    "- strings (string or str)\n",
    "- Booleans\n",
    "\n",
    "\n",
    "ATTENTION\n",
    "In order for the program to understand that you want to use a character string, you must remember to surround it with inverted commas (double \" or single ' )."
   ]
  },
  {
   "cell_type": "markdown",
   "metadata": {},
   "source": [
    "## Operations\n",
    "\n",
    "The four basic arithmetic operations are performed in a simple way using the symbols +-*/. on integer and decimal types. The use of parentheses allows you to manage the priorities of the operations.  \n",
    "The following table summarises the basic operations.\n",
    "<img src=\"images/1_0_OperateursPython.jpg\" alt=\"drawing\" /> "
   ]
  },
  {
   "cell_type": "markdown",
   "metadata": {},
   "source": [
    "## Operations on strings\n",
    "\n",
    "Addition and multiplication can be used on strings. However, their action is not the same as for numerical variables.  \n",
    "Addition concatenates the two strings. That is, it assembles the two strings in sequence.  Ex:  \n",
    "``` python\n",
    "chaine1 = \"salut \"\n",
    "chaine2 = \"le monde\"\n",
    "print(chaine1+chaine2)\n",
    "```\n",
    "`>>> salut le monde`  \n",
    "\n",
    "Multiplication between a character string and an integer duplicates the character string. Ex: \n",
    "``` python\n",
    "chaine1 = \"salut \"\n",
    "print(chaine1*3)\n",
    "```\n",
    "`>>>salut salut salut` "
   ]
  },
  {
   "cell_type": "markdown",
   "metadata": {},
   "source": [
    "### Exercice\n",
    "\n",
    "Create a variable with your age, and display it. Then add 5 to this variable and display it.   \n",
    "What is the new value of your variable?   \n",
    "Instead of adding the integer 5, try adding the float 5. What do you notice about the result?  "
   ]
  },
  {
   "cell_type": "code",
   "execution_count": null,
   "metadata": {},
   "outputs": [],
   "source": []
  },
  {
   "cell_type": "code",
   "execution_count": null,
   "metadata": {},
   "outputs": [],
   "source": []
  },
  {
   "cell_type": "markdown",
   "metadata": {},
   "source": [
    "# Listes"
   ]
  },
  {
   "cell_type": "markdown",
   "metadata": {},
   "source": [
    "A list is a data structure that contains a series of values. These lists can be composed of elements of the same type or of different types (e.g. string and float).  \n",
    "A list is declared by a series of values separated by **commas** and the entirety is surrounded by **square brackets**.  \n",
    "Examples :  \n",
    "```python\n",
    "ac = ['dcp1', 'cellmask', '']\n",
    "quantite = [100, 200, 50]\n",
    "mixte = ['dcp1', 100, 'cellmask', 200, '', 50]\n",
    "```\n",
    "\n",
    "One of the advantages of a list is that you can call its elements by their positions (= index of the list). However, be careful, the first element of a list is at index 0.  \n",
    "Examples : \n",
    "```python \n",
    "mixte = ['dcp1', 100, 'cellmask', 200, '', 50]\n",
    "indice =     0     1          2     3       4\n",
    "```\n",
    "So we have our mixed list which contains 5 elements from index 0 to 4. \n",
    "\n"
   ]
  },
  {
   "cell_type": "markdown",
   "metadata": {},
   "source": [
    "Lists support the + operation for concatenation and * for duplication. Their use is the same as for strings. \n",
    "\n",
    "The `len(my_list)` statement is used to find out the size of the list.  \n",
    "\n",
    "It is also possible to create lists of lists. \n",
    "Example:   \n",
    "```python\n",
    "rack1 = ['Sqh-GFP', 'uas Rho1RNAi', 'uas Rok']\n",
    "rack2 = ['Diap', 'quas-rpr']\n",
    "rack3 = ['67Gal4', 'tubGal80ts', 'uasSnail'\n",
    "stock = [rack1, rack2, rack3]\n",
    "print (stock)\n",
    "```\n",
    "`>>> [['Sqh-GFP', 'uas Rho1RNAi', 'uas Rok'], ['Diap', 'quas-rpr'], ['67Gal4', 'tubGal80ts', 'uasSnail']]`\n",
    " "
   ]
  },
  {
   "cell_type": "markdown",
   "metadata": {},
   "source": [
    "It is possible to append an element to the end of the list with the `append()` method. For example, to add the line 'GC3I' to our rack1 list, we would write: `rack1.append('GC3I')`.   \n",
    "You can also delete elements of a list. For example, I want to remove 'uas Rho1RNAi' from my rack1 list. Here, two methods are possible: \n",
    "- delete the element at position i. `rack1.del(1)`\n",
    "- remove from the value. `rack1.remove('uas Rho1RNAi')` Be careful, in this case, if 'uas Rho1RNAi' appears several times in the list. Only the first occurrence will be removed. "
   ]
  },
  {
   "cell_type": "markdown",
   "metadata": {},
   "source": [
    "## Exercise\n",
    "\n",
    "Create a list of days of the week with Sunday missing.   \n",
    "Add Sunday. \n",
    "Delete Wednesday."
   ]
  },
  {
   "cell_type": "code",
   "execution_count": null,
   "metadata": {},
   "outputs": [],
   "source": []
  },
  {
   "cell_type": "code",
   "execution_count": null,
   "metadata": {},
   "outputs": [],
   "source": []
  },
  {
   "cell_type": "markdown",
   "metadata": {},
   "source": [
    "# Using scientific libraries - Numpy Scipy Pandas"
   ]
  },
  {
   "cell_type": "markdown",
   "metadata": {},
   "source": [
    "## Numpy\n",
    "\n",
    "The Numpy library allows you to perform numerical calculations. Moreover, it allows an easy management of arrays of numbers. \n",
    "This library is often used with the Pandas library, which allows the management of arrays containing different types of data (int, string, float...)"
   ]
  },
  {
   "cell_type": "markdown",
   "metadata": {},
   "source": [
    "### Creating an array\n",
    "As we saw earlier, to create an array we use `[]`. \n",
    "We can create an `numpy.array()` in the same way.  \n",
    "Note that an array object only contains homogeneous data, i.e. of the same type.  \n",
    "The array() function can create arrays of any number of dimensions. However, it quickly becomes complicated\n",
    "when you exceed three dimensions. Remember that a one-dimensional array object can be considered as a vector and a two-dimensional array as a matrix. Here are some interesting attributes to describe an array object:\n",
    "- .ndim returns the number of dimensions (for example, 1 for a vector and 2 for a matrix)\n",
    "- .shape returns the dimensions as a tuple\n",
    "- .size returns the total number of elements contained in the array.\n",
    "1\n"
   ]
  },
  {
   "cell_type": "code",
   "execution_count": 1,
   "metadata": {},
   "outputs": [
    {
     "name": "stdout",
     "output_type": "stream",
     "text": [
      "[1 2 3]\n",
      "[[1 2 3]\n",
      " [4 5 6]]\n"
     ]
    }
   ],
   "source": [
    "#Importation de la librarie numpy\n",
    "import numpy as np\n",
    "\n",
    "# This is one dimension array\n",
    "tableau1d = np.array([1,2,3])\n",
    "# This is two dimension array\n",
    "tableau2d = np.array([[1,2,3],[4,5,6]])\n",
    "\n",
    "print(tableau1d)\n",
    "print(tableau2d)"
   ]
  },
  {
   "cell_type": "markdown",
   "metadata": {},
   "source": [
    "###  Retrieving elements from an array\n",
    "To retrieve one or more elements of an array object, you can use indices or slices, in the same way as with lists\n",
    "same way as with lists:\n",
    "```python\n",
    "tableau1d = np.array([1,2,3,4,5,6,7,8,9,10])\n",
    "print(tableau1d[1])\n",
    "```\n",
    "`>> 2`\n",
    "```python\n",
    "print(tableau1d[7:10])\n",
    "```\n",
    "`>> [8 9 10]`\n",
    "\n",
    "\n",
    "\n",
    "In the case of a two-dimensional array object, you can retrieve a complete row (with index m), a complete column (with index n) or a single element. 1\n",
    "``` ptyhon\n",
    "tableau2d = np.array([[1,2,3],[4,5,6]])\n",
    "print(tableau2d[:,0])\n",
    "```\n",
    "`>>[1 4]`\n",
    "```python\n",
    "print(tableau2d[0,:])\n",
    "```\n",
    "`>>[1 2 3]`\n",
    "```python\n",
    "print(tableau2d[0,1])\n",
    "```\n",
    "`>> 2`\n",
    "\n",
    "The syntax a[m,:] returns row m-1, and a[:,n] returns column n-1. Slices are obviously also usable on a two-dimensional array."
   ]
  },
  {
   "cell_type": "markdown",
   "metadata": {},
   "source": [
    "## Pandas"
   ]
  },
  {
   "cell_type": "markdown",
   "metadata": {},
   "source": [
    "The pandas module has been designed for data manipulation and analysis. It is particularly powerful for manipulating structured data in array form. To load pandas into Python's memory, we use the usual import command: `import pandas as pd`. \n",
    "\n",
    "## Series\n",
    "The first data type provided by pandas is **series**, which corresponds to a one-dimensional vector.  \n",
    "`s = pd.Series ([10, 20, 30, 40], index = ['a', 'b', 'c', 'd'])`\n",
    "With pandas, each element in the data series has a label that allows you to call the elements. Thus, to call the first element of the series, we can use its index, as for a list (0 for the first element) or its label (here, \"a\").   \n",
    "Of course, several elements can be extracted, by their indexes or their labels:\n",
    "```\n",
    "s[[1 ,3]]\n",
    "s[[\"b\",\"d\"]]\n",
    "```\n",
    "Labels allow you to modify and add elements:\n",
    "```\n",
    "s[\"c\"] = 300\n",
    "s[\"z\"] = 50\n",
    "s\n",
    "```\n",
    "\n",
    "Finally, one can filter a part of the series: `s[s>30]` and even combine several selection criteria: `s[(s>20) & (s <100)]`"
   ]
  },
  {
   "cell_type": "markdown",
   "metadata": {},
   "source": [
    "## Dataframes\n",
    "Another particularly interesting type of object introduced by pandas are **dataframes**. These are two-dimensional arrays with labels to name the rows and columns.  \n",
    "\n",
    "Here is how to create a dataframe with pandas from data provided as a list of rows:\n",
    "```python\n",
    "df = pd.DataFrame(columns =[\"Paris\", \"Lyon\", \"Nantes\", \"Pau\"],\n",
    "    index =[\" chat\", \"singe\", \"souris\"],\n",
    "    data=[np.arange (10, 14),\n",
    "    np.arange (20, 24),\n",
    "    np.arange (30, 34)])\n",
    "```\n",
    "\n",
    "**Ligne 1.** The dataframe is created with the DataFrame() function which is given several arguments. The columns argument specifies the names of the columns, as a list.   \n",
    "**Ligne 2.** The index argument defines the name of the rows, as a list.   \n",
    "**Lignes 3-5.** the data argument provides the contents of the dataframe, as a list of values corresponding to rows. Thus np.arange(10, 14) which is equivalent to [10, 11, 12, 13] corresponds to the first line of the dataframe.  \n",
    "\n",
    "### Some properties\n",
    "\n",
    "The dimensions of a dataframe are given by the **.shape** attribute:\n",
    "df.shape\n",
    "Here, the df dataframe has 3 rows and 4 columns.   \n",
    "\n",
    "The **.columns** attribute returns the names of the columns and also allows the columns of a dataframe to be renamed:\n",
    "df.columns\n",
    "\n",
    "The **.head(n)** method returns the first n rows of the dataframe (by default, n is 5):\n"
   ]
  },
  {
   "cell_type": "markdown",
   "metadata": {},
   "source": [
    "### Selection\n",
    "\n",
    "The selection mechanisms provided with pandas are very powerful. \n",
    "\n",
    "#### Selecting columns\n",
    "You can select a column by its label: `df[\"Lyon\"]`\n",
    "or several columns at the same time: `df[[\"Lyon\", \"Pau\"]]`.  \n",
    "When selecting multiple columns, the labels of interest are collected in a list.\n",
    "\n",
    "#### Selecting rows\n",
    "To select a row, use the .loc() statement and the row label: `df.loc[\"monkey\"]`. Again, multiple lines can be selected: `df.loc[[\"monkey\", \"cat\"]]`.\n",
    "Finally, you can also select lines with the .iloc statement and the line index (the first line having index 0): `df.iloc[1]`.  \n",
    "You can also use slices (as for lists): `df.iloc[0:2]`.\n",
    "\n",
    "####  Selection on rows and columns\n",
    "Of course, both types of selection (row and column) can be combined:\n",
    "```\n",
    "df.loc[\"mouse\", \"Pau\"] 2 33\n",
    "df.loc[[\"monkey\", \"mouse\"], ['Nantes ', 'Lyon ']]\n",
    "```\n",
    "Note that as soon as you want to make a selection on lines, you have to use loc (or iloc if you use indices).\n",
    "\n",
    "####  Selection by condition\n",
    "Now select all rows for which the number of employees in Pau is greater than 15: \n",
    "`df[ df[\"Pau\"]>15 ] `\n",
    "From this selection, we wish to keep only the values for Lyon:\n",
    "`df[ df[\"Pau\"]>15 ][\" Lyon\"]`\n",
    "\n",
    "You can also combine several conditions with & for the and operator:\n",
    "`df[ (df[\"Pau \"] >15) & (df[\"Lyon \"]>25) ]`\n",
    "and | for the or operator:\n",
    "`df[ (df[\"Pau \"] >15) | (df[\"Lyon \"]>25) ]`"
   ]
  },
  {
   "cell_type": "code",
   "execution_count": null,
   "metadata": {},
   "outputs": [],
   "source": []
  },
  {
   "cell_type": "code",
   "execution_count": null,
   "metadata": {},
   "outputs": [],
   "source": []
  }
 ],
 "metadata": {
  "kernelspec": {
   "display_name": "Python 3 (ipykernel)",
   "language": "python",
   "name": "python3"
  },
  "language_info": {
   "codemirror_mode": {
    "name": "ipython",
    "version": 3
   },
   "file_extension": ".py",
   "mimetype": "text/x-python",
   "name": "python",
   "nbconvert_exporter": "python",
   "pygments_lexer": "ipython3",
   "version": "3.9.12"
  }
 },
 "nbformat": 4,
 "nbformat_minor": 2
}
