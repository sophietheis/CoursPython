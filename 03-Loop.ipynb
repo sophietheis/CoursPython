{
 "cells": [
  {
   "cell_type": "markdown",
   "metadata": {},
   "source": [
    "# For loop"
   ]
  },
  {
   "cell_type": "markdown",
   "metadata": {},
   "source": [
    "Sometimes you may have to repeat the same instruction several times. Loops can help you to perform these repetitive tasks more efficiently.   \n",
    "Imagine that you want to display the elements of a list one after the other. In order to avoid writing the print statement for all the elements of the list we will use a loop.  \n",
    "```python\n",
    "liste_AC = ['cell_mask', 'dcp1', '']\n",
    "for ac in liste_AC :\n",
    "    print(ac)\n",
    "```  \n",
    "The variable _ac_ is called the **iteration variable**, it successively takes the different values of the list _list_AC_ at each iteration of the loop.   \n",
    "Another way to do this is to go through the indices of the list (i.e. the position). This can be useful when you want to work on several lists at the same time.\n",
    "```python\n",
    "quantite = [100, 200, 50]\n",
    "liste_AC = ['cell_mask', 'dcp1', '']\n",
    "for i in range(len(liste_AC)) :\n",
    "    print(liste_AC[i])\n",
    "    print(quantite[i])\n",
    "```\n",
    "Note several things in this example: \n",
    "- len** is used to obtain the size of a list\n",
    "- range(10) is used to create the sequence of numbers 0 1 2 3 4 5 6 7 8 9. It is possible not to start the sequence at 0: range(2,10) creates the sequence 2 3 4 5 6 7 8 9. Note also that the number max is not included. "
   ]
  },
  {
   "cell_type": "markdown",
   "metadata": {},
   "source": [
    "# While loop\n",
    "\n",
    "An alternative to the for loop is the while loop. In this case, the series of statements inside the while loop is executed as long as the while condition is true. To work, the while loop needs different elements: \n",
    "- Initialization of the iteration variable before the loop (line 1)\n",
    "- Testing the iteration variable associated with the while statement (line 2)\n",
    "- Update the iteration variable inside the loop (line 4)\n",
    "Note: If you forget to update the variable, you will end up in what is known as an infinite loop, which means that the loop will never stop as the condition will always be true. \n",
    "```\n",
    "i=1\n",
    "while i<=5:\n",
    "    print(i)\n",
    "    i = i+1\n",
    "```"
   ]
  },
  {
   "cell_type": "code",
   "execution_count": null,
   "metadata": {},
   "outputs": [],
   "source": []
  },
  {
   "cell_type": "markdown",
   "metadata": {},
   "source": [
    "## Exercice\n",
    "\n",
    "Create a list of days of the week and display all the elements of this list in 3 different ways (2 for and 1 while)"
   ]
  },
  {
   "cell_type": "code",
   "execution_count": null,
   "metadata": {},
   "outputs": [],
   "source": []
  },
  {
   "cell_type": "code",
   "execution_count": null,
   "metadata": {},
   "outputs": [],
   "source": []
  },
  {
   "cell_type": "code",
   "execution_count": null,
   "metadata": {},
   "outputs": [],
   "source": []
  }
 ],
 "metadata": {
  "kernelspec": {
   "display_name": "Python 3 (ipykernel)",
   "language": "python",
   "name": "python3"
  },
  "language_info": {
   "codemirror_mode": {
    "name": "ipython",
    "version": 3
   },
   "file_extension": ".py",
   "mimetype": "text/x-python",
   "name": "python",
   "nbconvert_exporter": "python",
   "pygments_lexer": "ipython3",
   "version": "3.9.12"
  }
 },
 "nbformat": 4,
 "nbformat_minor": 2
}
