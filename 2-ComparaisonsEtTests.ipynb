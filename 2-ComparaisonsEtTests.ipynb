{
 "cells": [
  {
   "cell_type": "markdown",
   "metadata": {},
   "source": [
    "# Les comparaisons\n",
    "\n",
    "il est possible d'effectuer une série de comparaisons entre le contenu de deux variables.   \n",
    "<img src=\"images/2_0_comparaisons.png\" alt=\"drawing\"/>    \n",
    "\n",
    "Python va renvoyer `True` si la comparaison est correct, et `False`si elle est fausse.   \n",
    "Attention à ne pas confondre l'opérateur d'affectation **=** et l'opérateur de comparaison **==**.   \n",
    "Il est également possible de faire des comparaisons sur des chaines de caractères. Cependant, seuls les tests **!=** et **==** ont un sens. Les autres opérateurs comparent l'ordre alphabétique des caractères. "
   ]
  },
  {
   "cell_type": "markdown",
   "metadata": {},
   "source": [
    "# Les tests"
   ]
  },
  {
   "cell_type": "markdown",
   "metadata": {},
   "source": [
    "Dans cette partie, on va apprendre à utiliser des structures conditionnelles qui vont nous permettre d'executer ou non une ligne de code selon certaine condition. Il va permettre à l'ordinateur de prendre des décisions. Par exemple soustraire 1 à un nombre si celui ci est supérieur à 1.   \n",
    "La structure pour écrirer une condition est de la forme:  \n",
    "`if _condition_ :\n",
    "    je_fais_cette_action\n",
    "else:\n",
    "    je_fais_une_autre_action\n",
    "`  \n",
    "Noter ici la position des lignes (leurs indentations). Toutes les instructions qui sont relatives à une condition doivent se situer une tabulation en arrière de la ligne conditionnelle (appelé bloc d'instruction).  \n",
    "Par exemple :  \n",
    "`\n",
    "nb=10\n",
    "if nb>1:     # Si nb est supérieur à 1\n",
    "    nb=nb-1      # On retire 1 à nb\n",
    "else :\n",
    "    nb=nb/2\n",
    "`  "
   ]
  },
  {
   "cell_type": "markdown",
   "metadata": {},
   "source": [
    "### Exercice\n",
    "\n",
    "Créer une variable avec votre age.\n",
    "Créer une condition qui teste si l'age saisie correspond à une personne majeure ou non, et afficher `Vous êtes majeur.` ou `Vous êtes mineur.` en fonction des cas."
   ]
  },
  {
   "cell_type": "code",
   "execution_count": 1,
   "metadata": {},
   "outputs": [
    {
     "name": "stdout",
     "output_type": "stream",
     "text": [
      "Vous êtes majeur.\n"
     ]
    }
   ],
   "source": [
    "age = 26\n",
    "if age < 18:\n",
    "    print('Vous êtes mineur.')\n",
    "else:\n",
    "    print('Vous êtes majeur.')"
   ]
  },
  {
   "cell_type": "markdown",
   "metadata": {},
   "source": [
    "Comme vous pouvez le voir, jusqu'à présent on ne peut gérer uniquement des cas du type `si...alors...sinon`. Or il peut être interessant d'utiliser des strutures conditionnelles plus complexe du type `si...alors... sinon si... alors`.\n",
    "\n"
   ]
  },
  {
   "cell_type": "code",
   "execution_count": null,
   "metadata": {},
   "outputs": [],
   "source": []
  },
  {
   "cell_type": "code",
   "execution_count": null,
   "metadata": {},
   "outputs": [],
   "source": []
  },
  {
   "cell_type": "code",
   "execution_count": null,
   "metadata": {},
   "outputs": [],
   "source": []
  },
  {
   "cell_type": "code",
   "execution_count": null,
   "metadata": {},
   "outputs": [],
   "source": []
  },
  {
   "cell_type": "code",
   "execution_count": null,
   "metadata": {},
   "outputs": [],
   "source": []
  }
 ],
 "metadata": {
  "kernelspec": {
   "display_name": "Python 3",
   "language": "python",
   "name": "python3"
  },
  "language_info": {
   "codemirror_mode": {
    "name": "ipython",
    "version": 3
   },
   "file_extension": ".py",
   "mimetype": "text/x-python",
   "name": "python",
   "nbconvert_exporter": "python",
   "pygments_lexer": "ipython3",
   "version": "3.7.4"
  }
 },
 "nbformat": 4,
 "nbformat_minor": 2
}
